{
 "cells": [
  {
   "cell_type": "code",
   "execution_count": null,
   "metadata": {},
   "outputs": [],
   "source": [
    "from pathlib import Path\n",
    "import numpy as np\n",
    "from joblib import Parallel, delayed\n",
    "from tqdm import tqdm\n",
    "import shutil\n",
    "import itertools\n",
    "\n",
    "import utils\n",
    "\n",
    "data_path = Path.cwd() / \"data\"\n",
    "#data_path = Path.cwd() / \"data_tiny\"\n",
    "\n",
    "input_txt_dirs = [data_path / \"labeled_data\", data_path / \"inference_data\"]\n",
    "output_dir = data_path / \"merged_data\"\n",
    "\n",
    "output_dir.mkdir(exist_ok=True)"
   ]
  },
  {
   "cell_type": "code",
   "execution_count": null,
   "metadata": {},
   "outputs": [],
   "source": [
    "input_txt_lists = [(d.glob(\"*.txt\"), i) for i, d in enumerate(input_txt_dirs)]\n",
    "input_txt_lists = [[(p.stem, i) for p in l] for l, i in input_txt_lists]\n",
    "input_txt_lists = itertools.chain.from_iterable(input_txt_lists)\n",
    "input_txt_lists = [(p, i) for (p, i) in input_txt_lists if len(p.split(\"_\")) == 3]\n",
    "\n",
    "#input_txt_lists = list(input_txt_lists)\n",
    "#input_txt_list_2 = [p.stem for p in input_txt_list_2]\n",
    "#input_txt_lists"
   ]
  },
  {
   "cell_type": "code",
   "execution_count": null,
   "metadata": {},
   "outputs": [],
   "source": [
    "keys = {k for k, _ in input_txt_lists}\n",
    "annotation_txt_lists = {k: [] for k in keys}\n",
    "\n",
    "for filename, idx in input_txt_lists:\n",
    "    annotation_txt_lists[filename].append(idx)\n",
    "\n",
    "annotation_txt_lists = [(k, sorted(list(set(v)))) for k, v in annotation_txt_lists.items()]\n",
    "\n",
    "input_txt_list_unique = [(filename+\".txt\", input_txt_dirs[idx_list[0]]) for filename, idx_list in tqdm(annotation_txt_lists) if len(idx_list) == 1]\n",
    "input_txt_list_shared = [(filename+\".txt\", [input_txt_dirs[i] for i in idx_list]) for filename, idx_list in tqdm(annotation_txt_lists) if len(idx_list) > 1]\n",
    "\n",
    "copy_file_list = [(src_dir / filename, output_dir / filename) for filename, src_dir in input_txt_list_unique]\n",
    "merge_file_list = [([d / filename for d in src_dirs], output_dir / filename) for filename, src_dirs in input_txt_list_shared]"
   ]
  },
  {
   "cell_type": "code",
   "execution_count": null,
   "metadata": {},
   "outputs": [],
   "source": [
    "#[shutil.copyfile(*params) for params in tqdm(copy_file_list)]\n",
    "Parallel(n_jobs=-1, verbose=10)([delayed(lambda x: shutil.copyfile(*x))(p) for p in copy_file_list])\n",
    "print(\"copy done.\")"
   ]
  },
  {
   "cell_type": "code",
   "execution_count": null,
   "metadata": {},
   "outputs": [],
   "source": [
    "def process(params):\n",
    "    input_txt_paths, output_txt_path = params\n",
    "    assert(len(input_txt_paths) > 0)\n",
    "    \n",
    "    image_size_list = []\n",
    "    areas_list = []\n",
    "    \n",
    "    for input_txt_path in input_txt_paths:\n",
    "        with open(input_txt_path, \"r\") as f:\n",
    "            lines = f.readlines()\n",
    "        image_size, areas = utils.parse_annotation(lines)\n",
    "        image_size_list.append(image_size)\n",
    "        areas_list.append(areas)\n",
    "    \n",
    "    image_size = image_size_list[0]\n",
    "    for s in image_size_list:\n",
    "        assert(s == image_size)\n",
    "    \n",
    "    areas = list(itertools.chain.from_iterable(areas_list))\n",
    "    num_areas = len(areas)\n",
    "    \n",
    "    areas = [f\"{x0} {y0} {x1} {y1} 1\" for x0, y0, x1, y1 in areas]\n",
    "    areas = \"\\n\".join(areas)\n",
    "    \n",
    "    annotation = f\"{image_size[0]} {image_size[1]}\\n{num_areas}\\n{areas}\"\n",
    "    \n",
    "    with open(output_txt_path, \"w\") as f:\n",
    "        f.write(annotation)\n",
    "\n",
    "#[process(params) for params in tqdm(merge_file_list)]\n",
    "Parallel(n_jobs=-1, verbose=10)([delayed(process)(p) for p in merge_file_list])\n",
    "print(\"merge done.\")"
   ]
  },
  {
   "cell_type": "code",
   "execution_count": null,
   "metadata": {},
   "outputs": [],
   "source": [
    "print(\"output done.\")"
   ]
  },
  {
   "cell_type": "code",
   "execution_count": null,
   "metadata": {},
   "outputs": [],
   "source": []
  }
 ],
 "metadata": {
  "kernelspec": {
   "display_name": "Python 3",
   "language": "python",
   "name": "python3"
  },
  "language_info": {
   "codemirror_mode": {
    "name": "ipython",
    "version": 3
   },
   "file_extension": ".py",
   "mimetype": "text/x-python",
   "name": "python",
   "nbconvert_exporter": "python",
   "pygments_lexer": "ipython3",
   "version": "3.7.7"
  }
 },
 "nbformat": 4,
 "nbformat_minor": 4
}
