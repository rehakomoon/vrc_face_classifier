{
 "cells": [
  {
   "cell_type": "code",
   "execution_count": null,
   "metadata": {},
   "outputs": [],
   "source": [
    "from pathlib import Path\n",
    "import numpy as np\n",
    "from PIL import Image\n",
    "import cv2\n",
    "import matplotlib.pyplot as plt\n",
    "from joblib import Parallel, delayed\n",
    "from tqdm import tqdm\n",
    "import shutil\n",
    "import itertools\n",
    "\n",
    "data_path = Path.cwd() / \"data\"\n",
    "input_dir = data_path / \"collect_data\"\n",
    "output_dir = data_path / \"inference_data\"\n",
    "\n",
    "output_dir.mkdir(exist_ok=True)"
   ]
  },
  {
   "cell_type": "code",
   "execution_count": null,
   "metadata": {},
   "outputs": [],
   "source": [
    "def process(image_path):\n",
    "    load_img = cv2.imread(str(image_path), cv2.IMREAD_COLOR)\n",
    "    \n",
    "    images = [load_img, cv2.flip(load_img, 1)]\n",
    "    images = [[image,\n",
    "               cv2.rotate(image, cv2.ROTATE_90_CLOCKWISE),\n",
    "               cv2.rotate(image, cv2.ROTATE_180),\n",
    "               cv2.rotate(image, cv2.ROTATE_90_COUNTERCLOCKWISE)] for image in images]\n",
    "    images = list(itertools.chain.from_iterable(images))\n",
    "    \n",
    "    annotations = []\n",
    "\n",
    "    for image_idx, image in enumerate(images):\n",
    "        png_filename = f\"{image_path.stem}_{image_idx}.png\"\n",
    "        output_path = output_dir / png_filename\n",
    "\n",
    "        image_h, image_w, _ = image.shape\n",
    "        annotation_text = f\"{png_filename}\\n{image.shape[1]} {image.shape[0]}\\n0\"\n",
    "        annotations.append(annotation_text)\n",
    "        \n",
    "        cv2.imwrite(str(output_path), image)\n",
    "    \n",
    "    return annotations\n",
    "\n",
    "input_image_path_list = list(input_dir.glob(\"*.png\"))\n",
    "\n",
    "# for debugging\n",
    "# input_image_path_list = input_image_path_list[:100]\n",
    "\n",
    "annotations = Parallel(n_jobs=-1, verbose=10)([delayed(process)(p) for p in input_image_path_list])\n",
    "annotations = list(itertools.chain.from_iterable(annotations))\n",
    "\n",
    "annotation_path = output_dir / \"annotation.txt\"\n",
    "annotations = \"#\\n\" + \"\\n#\\n\".join(annotations)\n",
    "with open(annotation_path, \"w\") as f:\n",
    "    f.write(annotations)\n",
    "\n",
    "print(\"process done.\")"
   ]
  },
  {
   "cell_type": "code",
   "execution_count": null,
   "metadata": {},
   "outputs": [],
   "source": []
  }
 ],
 "metadata": {
  "kernelspec": {
   "display_name": "Python 3",
   "language": "python",
   "name": "python3"
  },
  "language_info": {
   "codemirror_mode": {
    "name": "ipython",
    "version": 3
   },
   "file_extension": ".py",
   "mimetype": "text/x-python",
   "name": "python",
   "nbconvert_exporter": "python",
   "pygments_lexer": "ipython3",
   "version": "3.7.7"
  }
 },
 "nbformat": 4,
 "nbformat_minor": 4
}
