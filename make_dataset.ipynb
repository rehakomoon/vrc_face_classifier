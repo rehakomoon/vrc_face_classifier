{
 "cells": [
  {
   "cell_type": "code",
   "execution_count": null,
   "metadata": {},
   "outputs": [],
   "source": [
    "from pathlib import Path\n",
    "import numpy as np\n",
    "from PIL import Image\n",
    "import cv2\n",
    "import matplotlib.pyplot as plt\n",
    "from joblib import Parallel, delayed\n",
    "from tqdm import tqdm\n",
    "import shutil\n",
    "\n",
    "data_path = Path.cwd() / \"data\"\n",
    "input_txt_dir = data_path / \"collect_data_label_txt\"\n",
    "input_png_dir = data_path / \"collect_data\"\n",
    "output_dir = data_path / \"labeled_data\"\n",
    "annotation_output_path = output_dir / \"annotation.txt\"\n",
    "\n",
    "output_dir.mkdir(exist_ok=True)"
   ]
  },
  {
   "cell_type": "code",
   "execution_count": null,
   "metadata": {},
   "outputs": [],
   "source": [
    "input_path_list = list(input_txt_dir.glob(\"*.txt\"))\n",
    "\n",
    "# for debugging\n",
    "# input_path_list = input_path_list[:10]\n",
    "\n",
    "input_path_list = [(p, input_png_dir / (p.stem + \".png\")) for p in input_path_list]\n",
    "input_path_list = [(pp, pt) for pt, pp in input_path_list if pp.exists()]\n",
    "\n",
    "path_list = [(ipp, ipt, output_dir / (f\"{i:08}.png\"), output_dir / (f\"{i:08}.txt\")) for i, (ipp, ipt) in enumerate(input_path_list)]\n",
    "\n",
    "for input_png_path, input_txt_path, output_png_path, output_txt_path in path_list:\n",
    "    shutil.copy(input_txt_path, output_txt_path)\n",
    "    shutil.copy(input_png_path, output_png_path)\n",
    "print(\"copy done.\")"
   ]
  },
  {
   "cell_type": "code",
   "execution_count": null,
   "metadata": {},
   "outputs": [],
   "source": [
    "annotations = []\n",
    "\n",
    "for input_png_path, input_txt_path, output_png_path, output_txt_path in path_list:\n",
    "    annotation = f\"#\\n{output_png_path.name}\\n\"\n",
    "    with open(output_txt_path) as f:\n",
    "        annotation = annotation + f.read()\n",
    "    annotations.append(annotation)\n",
    "\n",
    "annotations = \"\\n\".join(annotations)\n",
    "with open(annotation_output_path, \"w\") as f:\n",
    "    f.write(annotations)\n",
    "print(\"output done.\")"
   ]
  },
  {
   "cell_type": "code",
   "execution_count": null,
   "metadata": {},
   "outputs": [],
   "source": []
  }
 ],
 "metadata": {
  "kernelspec": {
   "display_name": "Python 3",
   "language": "python",
   "name": "python3"
  },
  "language_info": {
   "codemirror_mode": {
    "name": "ipython",
    "version": 3
   },
   "file_extension": ".py",
   "mimetype": "text/x-python",
   "name": "python",
   "nbconvert_exporter": "python",
   "pygments_lexer": "ipython3",
   "version": "3.7.7"
  }
 },
 "nbformat": 4,
 "nbformat_minor": 4
}
