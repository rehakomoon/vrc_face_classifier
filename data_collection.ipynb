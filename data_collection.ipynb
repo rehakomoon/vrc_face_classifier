{
 "cells": [
  {
   "cell_type": "code",
   "execution_count": null,
   "metadata": {},
   "outputs": [],
   "source": [
    "from pathlib import Path\n",
    "import numpy as np\n",
    "import cv2\n",
    "import matplotlib.pyplot as plt\n",
    "from tqdm import tqdm\n",
    "import itertools\n",
    "\n",
    "%matplotlib inline\n",
    "\n",
    "data_path = Path.cwd() / \"data\"\n",
    "input_dir = data_path / \"raw_data\"\n",
    "output_dir = data_path / \"collect_data\"\n",
    "\n",
    "output_dir.mkdir(exist_ok=True)\n",
    "\n",
    "target_dirs = [d for d in input_dir.iterdir() if d.is_dir()]\n",
    "target_paths = [d.glob(\"*.png\") for d in target_dirs]\n",
    "target_paths = list(itertools.chain.from_iterable(target_paths))"
   ]
  },
  {
   "cell_type": "code",
   "execution_count": null,
   "metadata": {},
   "outputs": [],
   "source": [
    "for load_path in tqdm(target_paths):\n",
    "    load_image = cv2.imread(str(load_path), cv2.IMREAD_COLOR)\n",
    "    assert load_image.shape[2] == 3\n",
    "    \n",
    "    images = [load_image, cv2.flip(load_image, 1)]\n",
    "    images = [[image,\n",
    "               cv2.rotate(image, cv2.ROTATE_90_CLOCKWISE),\n",
    "               cv2.rotate(image, cv2.ROTATE_180),\n",
    "               cv2.rotate(image, cv2.ROTATE_90_COUNTERCLOCKWISE)] for image in images]\n",
    "    images = list(itertools.chain.from_iterable(images))\n",
    "    \n",
    "    if (False):\n",
    "        for image in images:\n",
    "            plt.imshow(cv2.cvtColor(image, cv2.COLOR_BGR2RGB))\n",
    "            plt.show()\n",
    "\n",
    "    output_path_prefix = load_path.parent.stem + \"_\" + load_path.stem.replace(\".\", \"_\")\n",
    "    for i, image in enumerate(images):\n",
    "        output_path = output_dir / f\"{output_path_prefix}_{i}.png\"\n",
    "        cv2.imwrite(str(output_path), image)\n",
    "    # break"
   ]
  },
  {
   "cell_type": "code",
   "execution_count": null,
   "metadata": {},
   "outputs": [],
   "source": [
    "def process(load_path):\n",
    "    load_image = cv2.imread(str(load_path), cv2.IMREAD_COLOR)\n",
    "    if (load_image is None):\n",
    "        return\n",
    "    assert load_image.shape[2] == 3\n",
    "    \n",
    "    images = [load_image, cv2.flip(load_image, 1)]\n",
    "    images = [[image,\n",
    "               cv2.rotate(image, cv2.ROTATE_90_CLOCKWISE),\n",
    "               cv2.rotate(image, cv2.ROTATE_180),\n",
    "               cv2.rotate(image, cv2.ROTATE_90_COUNTERCLOCKWISE)] for image in images]\n",
    "    images = list(itertools.chain.from_iterable(images))\n",
    "    \n",
    "    if (False):\n",
    "        for image in images:\n",
    "            plt.imshow(cv2.cvtColor(image, cv2.COLOR_BGR2RGB))\n",
    "            plt.show()\n",
    "\n",
    "    output_path_prefix = load_path.parent.stem + \"_\" + load_path.stem.replace(\".\", \"_\")\n",
    "    for i, image in enumerate(images):\n",
    "        output_path = output_dir / f\"{output_path_prefix}_{i}.png\"\n",
    "        cv2.imwrite(str(output_path), image)\n",
    "\n",
    "Parallel(n_jobs=-1, verbose=10)([delayed(process)(target_path) for target_path in target_paths])"
   ]
  }
 ],
 "metadata": {
  "kernelspec": {
   "display_name": "Python 3",
   "language": "python",
   "name": "python3"
  },
  "language_info": {
   "codemirror_mode": {
    "name": "ipython",
    "version": 3
   },
   "file_extension": ".py",
   "mimetype": "text/x-python",
   "name": "python",
   "nbconvert_exporter": "python",
   "pygments_lexer": "ipython3",
   "version": "3.7.7"
  }
 },
 "nbformat": 4,
 "nbformat_minor": 4
}
