{
 "cells": [
  {
   "cell_type": "code",
   "execution_count": null,
   "metadata": {},
   "outputs": [],
   "source": [
    "from pathlib import Path\n",
    "import numpy as np\n",
    "import cv2\n",
    "import matplotlib.pyplot as plt\n",
    "from tqdm import tqdm\n",
    "import itertools\n",
    "from joblib import Parallel, delayed\n",
    "\n",
    "#%matplotlib inline\n",
    "\n",
    "data_path = Path.cwd() / \"data\"\n",
    "input_dir = data_path / \"raw_data\"\n",
    "output_dir = data_path / \"collect_data\"\n",
    "\n",
    "output_dir.mkdir(exist_ok=True)\n",
    "\n",
    "target_dirs = [d for d in input_dir.iterdir() if d.is_dir()]\n",
    "target_paths = [[(p, f\"{d.stem}_{i:08}.png\") for i, p in enumerate(d.glob(\"*.png\"))] for d in target_dirs]\n",
    "target_paths = itertools.chain.from_iterable(target_paths)\n",
    "target_paths = list(target_paths)"
   ]
  },
  {
   "cell_type": "code",
   "execution_count": null,
   "metadata": {},
   "outputs": [],
   "source": [
    "def process(params):\n",
    "    load_path, save_filename = params\n",
    "    load_image = cv2.imread(str(load_path), cv2.IMREAD_COLOR)\n",
    "    \n",
    "    if (load_image is None):\n",
    "        print(\"Skip: \", load_path)\n",
    "        return\n",
    "    \n",
    "    load_image = load_image[:, :, :3]\n",
    "    \n",
    "    #output_path_prefix = load_path.parent.stem + \"_\" + load_path.stem.replace(\".\", \"_\")\n",
    "    output_path = output_dir / save_filename\n",
    "    cv2.imwrite(str(output_path), load_image)\n",
    "\n",
    "# for debugging\n",
    "#target_paths = target_paths[:10]\n",
    "\n",
    "#for params in tqdm(target_paths):\n",
    "#    process(params)\n",
    "Parallel(n_jobs=-1, verbose=10)([delayed(process)(params) for params in target_paths])\n",
    "None"
   ]
  },
  {
   "cell_type": "code",
   "execution_count": null,
   "metadata": {},
   "outputs": [],
   "source": []
  }
 ],
 "metadata": {
  "kernelspec": {
   "display_name": "Python 3",
   "language": "python",
   "name": "python3"
  },
  "language_info": {
   "codemirror_mode": {
    "name": "ipython",
    "version": 3
   },
   "file_extension": ".py",
   "mimetype": "text/x-python",
   "name": "python",
   "nbconvert_exporter": "python",
   "pygments_lexer": "ipython3",
   "version": "3.7.7"
  }
 },
 "nbformat": 4,
 "nbformat_minor": 4
}
