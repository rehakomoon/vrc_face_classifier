{
 "cells": [
  {
   "cell_type": "code",
   "execution_count": null,
   "metadata": {},
   "outputs": [],
   "source": [
    "from pathlib import Path\n",
    "import numpy as np\n",
    "from joblib import Parallel, delayed\n",
    "from tqdm import tqdm\n",
    "import shutil\n",
    "import itertools\n",
    "import pickle\n",
    "\n",
    "data_path = Path.cwd() / \"data\"\n",
    "input_dir = data_path / \"inference_data\"\n",
    "output_dir = data_path / \"inference_data\"\n",
    "pickle_path = input_dir / \"inference.pkl\"\n",
    "input_annotation_path = input_dir / \"annotation.txt\"\n",
    "\n",
    "output_dir.mkdir(exist_ok=True)"
   ]
  },
  {
   "cell_type": "code",
   "execution_count": null,
   "metadata": {},
   "outputs": [],
   "source": [
    "with open(pickle_path, \"rb\") as f:\n",
    "    load_data = pickle.load(f)\n",
    "with open(input_annotation_path, \"r\") as f:\n",
    "    load_annotations = f.readlines()\n",
    "\n",
    "load_annotations = \"\".join(load_annotations)\n",
    "#load_annotations = \"#\\n\" + load_annotations\n",
    "\n",
    "annotations = load_annotations.split(\"#\")\n",
    "annotations = annotations[1:]\n",
    "\n",
    "annotations = [a.strip().split(\"\\n\")[0:2] for a in annotations]\n",
    "annotations = [(a[0], a[1]) for a in annotations]\n",
    "\n",
    "print(\"#inferenced data: \", len(load_data), \", #annotations: \", len(annotations))\n",
    "assert(len(load_data) == len(annotations))\n",
    "\n",
    "inferred_data = zip(annotations, load_data)\n",
    "inferred_data = list(inferred_data)"
   ]
  },
  {
   "cell_type": "code",
   "execution_count": null,
   "metadata": {},
   "outputs": [],
   "source": [
    "confidence_threshold = 0.2\n",
    "\n",
    "for (image_filename, image_size), areas in tqdm(inferred_data):\n",
    "    filename = image_filename[:-4]\n",
    "    output_txt_path = output_dir / (filename + \".txt\")\n",
    "    areas = areas[0]\n",
    "    \n",
    "    areas = [(int(x0), int(y0), int(x1), int(y1)) for (x0, y0, x1, y1, p) in areas if p > confidence_threshold]\n",
    "    \n",
    "    if (len(areas) <= 0):\n",
    "        continue\n",
    "\n",
    "    annotation_text = [\" \".join([str(d) for d in l]) + \" 1\" for l in areas]\n",
    "    annotation_text = \"\\n\".join(annotation_text)\n",
    "    annotation_text = f\"{image_size}\\n{len(areas)}\\n{annotation_text}\"\n",
    "    \n",
    "    with open(output_txt_path, \"w\") as f:\n",
    "        f.write(annotation_text)\n",
    "\n",
    "print(\"output done.\")"
   ]
  },
  {
   "cell_type": "code",
   "execution_count": null,
   "metadata": {},
   "outputs": [],
   "source": [
    "# import matplotlib.pyplot as plt\n",
    "# plt.hist([p for p in probs if p >= 0.1], bins=32)"
   ]
  },
  {
   "cell_type": "code",
   "execution_count": null,
   "metadata": {},
   "outputs": [],
   "source": []
  }
 ],
 "metadata": {
  "kernelspec": {
   "display_name": "Python 3",
   "language": "python",
   "name": "python3"
  },
  "language_info": {
   "codemirror_mode": {
    "name": "ipython",
    "version": 3
   },
   "file_extension": ".py",
   "mimetype": "text/x-python",
   "name": "python",
   "nbconvert_exporter": "python",
   "pygments_lexer": "ipython3",
   "version": "3.7.7"
  }
 },
 "nbformat": 4,
 "nbformat_minor": 4
}
