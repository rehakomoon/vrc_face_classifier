{
 "cells": [
  {
   "cell_type": "code",
   "execution_count": null,
   "metadata": {},
   "outputs": [],
   "source": [
    "from pathlib import Path\n",
    "import numpy as np\n",
    "from joblib import Parallel, delayed\n",
    "from tqdm import tqdm\n",
    "import shutil\n",
    "\n",
    "import utils\n",
    "\n",
    "data_path = Path.cwd() / \"data\"\n",
    "#data_path = Path.cwd() / \"data_tiny\"\n",
    "\n",
    "input_dir = data_path / \"merged_data\"\n",
    "output_dir = data_path / \"integrated_data\"\n",
    "\n",
    "output_dir.mkdir(exist_ok=True)"
   ]
  },
  {
   "cell_type": "code",
   "execution_count": null,
   "metadata": {},
   "outputs": [],
   "source": [
    "parameters = input_dir.glob(\"*.txt\")\n",
    "parameters = [p for p in parameters if len(p.stem.split(\"_\")) == 3]\n",
    "parameters = [(p, output_dir / p.name) for p in parameters]"
   ]
  },
  {
   "cell_type": "code",
   "execution_count": null,
   "metadata": {},
   "outputs": [],
   "source": [
    "iou_merge_threshold = 0.8"
   ]
  },
  {
   "cell_type": "code",
   "execution_count": null,
   "metadata": {},
   "outputs": [],
   "source": [
    "def process(params):\n",
    "    input_path, output_path = params\n",
    "    #print(input_path)\n",
    "    \n",
    "    with open(input_path, \"r\") as f:\n",
    "        lines = f.readlines()\n",
    "    image_size, areas = utils.parse_annotation(lines)\n",
    "    \n",
    "    input_areas = [(x0, y0, x1, y1, (x1-x0)*(y1-y0)) for x0, y0, x1, y1 in areas]\n",
    "    output_areas = []\n",
    "\n",
    "    for x0i, y0i, x1i, y1i, ai in input_areas:\n",
    "        need_to_append = True\n",
    "        for idx, (x0o, y0o, x1o, y1o, ao, no) in enumerate(output_areas):\n",
    "            x0u, y0u, x1u, y1u = (max(x0i, x0o), max(y0i, y0o), min(x1i, x1o), min(y1i, y1o))\n",
    "            if (x1u - x0u <= 0 or y1u - y0u <= 0):\n",
    "                continue\n",
    "            au = (x1u - x0u) * (y1u - y0u)\n",
    "            iou = 2 * au / (ai + ao)\n",
    "            assert(iou <= 1)\n",
    "            if (iou >= iou_merge_threshold):\n",
    "                no_new = no + 1\n",
    "                x0 = max(0, int((x0o * no + x0i) / no_new))\n",
    "                y0 = max(0, int((y0o * no + y0i) / no_new))\n",
    "                x1 = min(image_size[0] - 1, int((x1o * no + x1i) / no_new))\n",
    "                y1 = min(image_size[1] - 1, int((y1o * no + y1i) / no_new))\n",
    "                assert(x1 - x0 > 0)\n",
    "                assert(y1 - y0 > 0)\n",
    "                a = (x1 - x0) * (y1 - y0)\n",
    "                output_areas[idx] = (x0, y0, x1, y1, a, no_new)\n",
    "                need_to_append = False\n",
    "                break\n",
    "        if need_to_append:\n",
    "            output_areas.append((x0i, y0i, x1i, y1i, ai, 1))\n",
    "\n",
    "    areas = [f\"{x0} {y0} {x1} {y1} 1\" for x0, y0, x1, y1, _, _ in output_areas]\n",
    "    num_areas = len(areas)\n",
    "    areas = \"\\n\".join(areas)\n",
    "    \n",
    "    annotation = f\"{image_size[0]} {image_size[1]}\\n{num_areas}\\n{areas}\"\n",
    "    #print(len(input_areas), num_areas)\n",
    "    \n",
    "    with open(output_path, \"w\") as f:\n",
    "        f.write(annotation)\n",
    "\n",
    "#[process(params) for params in tqdm(parameters)]\n",
    "Parallel(n_jobs=-1, verbose=10)([delayed(process)(p) for p in parameters])\n",
    "print(\"output done.\")"
   ]
  },
  {
   "cell_type": "code",
   "execution_count": null,
   "metadata": {},
   "outputs": [],
   "source": []
  }
 ],
 "metadata": {
  "kernelspec": {
   "display_name": "Python 3",
   "language": "python",
   "name": "python3"
  },
  "language_info": {
   "codemirror_mode": {
    "name": "ipython",
    "version": 3
   },
   "file_extension": ".py",
   "mimetype": "text/x-python",
   "name": "python",
   "nbconvert_exporter": "python",
   "pygments_lexer": "ipython3",
   "version": "3.7.7"
  }
 },
 "nbformat": 4,
 "nbformat_minor": 4
}
