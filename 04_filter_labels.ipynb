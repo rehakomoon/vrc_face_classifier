{
 "cells": [
  {
   "cell_type": "code",
   "execution_count": null,
   "metadata": {},
   "outputs": [],
   "source": [
    "from pathlib import Path\n",
    "import numpy as np\n",
    "import cv2\n",
    "from joblib import Parallel, delayed\n",
    "from tqdm import tqdm\n",
    "import shutil\n",
    "import itertools\n",
    "\n",
    "import utils\n",
    "\n",
    "data_path = Path.cwd() / \"data\"\n",
    "#data_path = Path.cwd() / \"data_tiny\"\n",
    "\n",
    "input_png_dir = data_path / \"collect_data\"\n",
    "\n",
    "input_dir = data_path / \"labeled_data\"\n",
    "output_dir = data_path / \"labeled_filtered_data\"\n",
    "positive_list_path = data_path / \"positive_list.txt\"\n",
    "#input_dir = data_path / \"merged_data\"\n",
    "#output_dir = data_path / \"merged_filtered_data\"\n",
    "#positive_list_path = data_path / \"positive_list_merged.txt\"\n",
    "\n",
    "output_dir.mkdir(exist_ok=True)"
   ]
  },
  {
   "cell_type": "code",
   "execution_count": null,
   "metadata": {},
   "outputs": [],
   "source": [
    "with open(positive_list_path, \"r\") as f:\n",
    "    target_list = f.readlines()\n",
    "target_list = [l.strip() for l in target_list]\n",
    "target_list = [l.split(\":\") for l in target_list]\n",
    "target_list = [(l[0].strip(), l[1].strip(), l[2].strip()) for l in target_list]\n",
    "target_list = [(f\"{p}_{r}.txt\", f\"{p}.png\", int(r), [int(i.strip()) for i in l.split(\",\")]) for p, r, l in target_list]\n",
    "\n",
    "print(f\"#filtered_annotations: {len(target_list)}\")"
   ]
  },
  {
   "cell_type": "code",
   "execution_count": null,
   "metadata": {},
   "outputs": [],
   "source": [
    "def process(params):\n",
    "    txt_filename, png_filename, rotation, annotations = params\n",
    "    input_txt_path = input_dir / txt_filename\n",
    "    output_txt_path = output_dir / txt_filename\n",
    "\n",
    "    if not input_txt_path.exists():\n",
    "        print(input_txt_path.name, \"does not exist, skipped.\")\n",
    "        return None\n",
    "\n",
    "    with open(input_txt_path, \"r\") as f:\n",
    "        lines = f.readlines()\n",
    "        \n",
    "    image_size, areas = utils.parse_annotation(lines)\n",
    "    \n",
    "    if len(areas) <= max(annotations):\n",
    "        print(target_file.name, \" annotation is not valid, skipped.\")\n",
    "        return None\n",
    "    \n",
    "    areas = [areas[i] for i in annotations]\n",
    "    areas = [f\"{x0} {y0} {x1} {y1} 1\" for x0, y0, x1, y1 in areas]\n",
    "    \n",
    "    if len(areas) <= 0:\n",
    "        return None\n",
    "\n",
    "    annotations = \"\\n\".join(areas)\n",
    "    annotations = f\"{image_size[0]} {image_size[1]}\\n{len(areas)}\\n{annotations}\"\n",
    "    \n",
    "    with open(output_txt_path, \"w\") as f:\n",
    "        f.write(annotations)\n",
    "\n",
    "[process(p) for p in tqdm(target_list)]\n",
    "None"
   ]
  },
  {
   "cell_type": "code",
   "execution_count": null,
   "metadata": {},
   "outputs": [],
   "source": []
  }
 ],
 "metadata": {
  "kernelspec": {
   "display_name": "Python 3",
   "language": "python",
   "name": "python3"
  },
  "language_info": {
   "codemirror_mode": {
    "name": "ipython",
    "version": 3
   },
   "file_extension": ".py",
   "mimetype": "text/x-python",
   "name": "python",
   "nbconvert_exporter": "python",
   "pygments_lexer": "ipython3",
   "version": "3.7.7"
  }
 },
 "nbformat": 4,
 "nbformat_minor": 4
}
