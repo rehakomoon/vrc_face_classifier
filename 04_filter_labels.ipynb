{
 "cells": [
  {
   "cell_type": "code",
   "execution_count": null,
   "metadata": {},
   "outputs": [],
   "source": [
    "from pathlib import Path\n",
    "import numpy as np\n",
    "from PIL import Image\n",
    "import cv2\n",
    "import matplotlib.pyplot as plt\n",
    "from joblib import Parallel, delayed\n",
    "from tqdm import tqdm\n",
    "import shutil\n",
    "import itertools\n",
    "\n",
    "# %matplotlib inline\n",
    "\n",
    "data_path = Path.cwd() / \"data\"\n",
    "input_dir = data_path / \"labeled_data\"\n",
    "input_png_dir = data_path / \"collect_data\"\n",
    "output_dir = data_path / \"labeled_filtered_data\"\n",
    "positive_list_path = data_path / \"positive_list.txt\"\n",
    "\n",
    "output_dir.mkdir(exist_ok=True)"
   ]
  },
  {
   "cell_type": "code",
   "execution_count": null,
   "metadata": {},
   "outputs": [],
   "source": [
    "with open(positive_list_path, \"r\") as f:\n",
    "    target_list = f.readlines()\n",
    "target_list = [l.strip() for l in target_list]\n",
    "target_list = [l.split(\":\") for l in target_list]\n",
    "target_list = [(l[0].strip(), l[1].strip(), l[2].strip()) for l in target_list]\n",
    "target_list = [(f\"{p}_{r}.txt\", f\"{p}.png\", int(r), [int(i.strip()) for i in l.split(\",\")]) for p, r, l in target_list]"
   ]
  },
  {
   "cell_type": "code",
   "execution_count": null,
   "metadata": {},
   "outputs": [],
   "source": [
    "def process(params):\n",
    "    txt_filename, png_filename, rotation, annotations = params\n",
    "    target_file = input_dir / txt_filename\n",
    "\n",
    "    if not target_file.exists():\n",
    "        print(target_file.name, \"does not exist, skipped.\")\n",
    "        return None\n",
    "\n",
    "    with open(target_file, \"r\") as f:\n",
    "        lines = f.readlines()\n",
    "    lines = [l.strip() for l in lines]\n",
    "    image_size_str = lines[0]\n",
    "    num_area = int(lines[1])\n",
    "    areas = lines[2:]\n",
    "\n",
    "    if len(areas) != num_area:\n",
    "        print(target_file.name, \"is not valid, skipped.\")\n",
    "        return None\n",
    "\n",
    "    if num_area <= max(annotations):\n",
    "        print(target_file.name, \" annotation is not valid, skipped.\")\n",
    "        return None\n",
    "\n",
    "    areas = [areas[i] for i in annotations]\n",
    "\n",
    "    if len(areas) <= 0:\n",
    "        return None\n",
    "\n",
    "    annotations = \"\\n\".join(areas)\n",
    "    annotations = f\"{image_size_str}\\n{len(areas)}\\n{annotations}\"\n",
    "\n",
    "    return txt_filename, png_filename, rotation, annotations\n",
    "\n",
    "annotations = [process(p) for p in tqdm(target_list)]\n",
    "annotations = [a for a in annotations if a]\n",
    "\n",
    "annotations = [(output_dir / text_filename, input_png_dir / png_filename, r, a) for text_filename, png_filename, r, a in annotations]\n",
    "annotations = [(output_txt_path, output_dir / (output_txt_path.stem + \".png\"), input_png_path, r, a) for output_txt_path, input_png_path, r, a in annotations]\n",
    "\n",
    "annotations = [p for p in annotations if p[2].exists()]"
   ]
  },
  {
   "cell_type": "code",
   "execution_count": null,
   "metadata": {},
   "outputs": [],
   "source": [
    "def process_save(params):\n",
    "    output_txt_path, output_png_path, input_png_path, rotation, annotation = params\n",
    "    \n",
    "    image = cv2.imread(str(input_png_path), cv2.IMREAD_COLOR)\n",
    "    \n",
    "    rotates = [lambda x: x,\n",
    "               lambda x: cv2.rotate(x, cv2.ROTATE_90_CLOCKWISE),\n",
    "               lambda x: cv2.rotate(x, cv2.ROTATE_180),\n",
    "               lambda x: cv2.rotate(x, cv2.ROTATE_90_COUNTERCLOCKWISE)]\n",
    "    \n",
    "    rotate = rotates[rotation]\n",
    "    image = rotate(image)\n",
    "\n",
    "    image_h, image_w, _ = image.shape\n",
    "    cv2.imwrite(str(output_png_path), image)\n",
    "\n",
    "    with open(output_txt_path, \"w\") as f:\n",
    "        f.write(annotation)\n",
    "\n",
    "#[process_save(params) for params in annotations]\n",
    "Parallel(n_jobs=-1, verbose=10)([delayed(process_save)(p) for p in annotations])\n",
    "print(\"process done.\")"
   ]
  },
  {
   "cell_type": "code",
   "execution_count": null,
   "metadata": {},
   "outputs": [],
   "source": []
  },
  {
   "cell_type": "code",
   "execution_count": null,
   "metadata": {},
   "outputs": [],
   "source": []
  }
 ],
 "metadata": {
  "kernelspec": {
   "display_name": "Python 3",
   "language": "python",
   "name": "python3"
  },
  "language_info": {
   "codemirror_mode": {
    "name": "ipython",
    "version": 3
   },
   "file_extension": ".py",
   "mimetype": "text/x-python",
   "name": "python",
   "nbconvert_exporter": "python",
   "pygments_lexer": "ipython3",
   "version": "3.7.7"
  }
 },
 "nbformat": 4,
 "nbformat_minor": 4
}
