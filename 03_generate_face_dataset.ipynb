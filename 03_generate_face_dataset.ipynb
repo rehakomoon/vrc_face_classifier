{
 "cells": [
  {
   "cell_type": "code",
   "execution_count": null,
   "metadata": {},
   "outputs": [],
   "source": [
    "from pathlib import Path\n",
    "import numpy as np\n",
    "import cv2\n",
    "from tqdm import tqdm\n",
    "import itertools\n",
    "from joblib import Parallel, delayed\n",
    "\n",
    "import utils\n",
    "\n",
    "#import matplotlib.pyplot as plt\n",
    "#%matplotlib inline\n",
    "\n",
    "data_path = Path.cwd() / \"data\"\n",
    "#data_path = Path.cwd() / \"data_tiny\"\n",
    "\n",
    "#input_label_dir = data_path / \"labeled_data\"\n",
    "#input_png_dir = data_path / \"collect_data\"\n",
    "#output_dir = data_path / \"face_data\"\n",
    "input_label_dir = data_path / \"integrated_data\"\n",
    "input_png_dir = data_path / \"collect_data\"\n",
    "output_dir = data_path / \"face_data_2\"\n",
    "\n",
    "output_dir.mkdir(exist_ok=True)"
   ]
  },
  {
   "cell_type": "code",
   "execution_count": null,
   "metadata": {},
   "outputs": [],
   "source": [
    "input_path_list = list(input_label_dir.glob(\"*.txt\"))\n",
    "\n",
    "# for debugging\n",
    "# input_path_list = input_path_list[:10]\n",
    "\n",
    "parameters = [utils.get_image_path_and_rotation(p) for p in input_path_list]\n",
    "parameters = zip(input_path_list, parameters)\n",
    "parameters = [(txt_path, param) for (txt_path, param) in parameters if param is not None]\n",
    "parameters = [(txt_path, input_png_dir / png_filename, rotation) for txt_path, (png_filename, rotation) in parameters]\n",
    "\n",
    "print(\"#labels:\", len(parameters))"
   ]
  },
  {
   "cell_type": "code",
   "execution_count": null,
   "metadata": {},
   "outputs": [],
   "source": [
    "output_image_size = 128\n",
    "\n",
    "def process(params):\n",
    "    input_txt_path, input_png_path, rotation = params\n",
    "    output_png_filename_prefix = f\"{input_png_path.stem}_{rotation}\"\n",
    "    \n",
    "    with open(input_txt_path, \"r\") as f:\n",
    "        lines = f.readlines()\n",
    "    image_size, areas = utils.parse_annotation(lines)\n",
    "    \n",
    "    image = utils.load_image_with_rotation(input_png_path, rotation)\n",
    "    image_h, image_w, _ = image.shape\n",
    "    assert(image_w == image_size[0] and image_h == image_size[1])\n",
    "    \n",
    "    if (False):\n",
    "        plt.imshow(cv2.cvtColor(image, cv2.COLOR_BGR2RGB))\n",
    "        plt.show()\n",
    "        \n",
    "    area_size_list = []\n",
    "\n",
    "    for i, area in enumerate(areas):\n",
    "        x0, y0, x1, y1 = area\n",
    "\n",
    "        crop_image = image[y0:y1, x0:x1, :]\n",
    "        crop_h, crop_w, _ = crop_image.shape\n",
    "\n",
    "        if (False):\n",
    "            plt.imshow(cv2.cvtColor(crop_image, cv2.COLOR_BGR2RGB))\n",
    "            plt.show()\n",
    "\n",
    "        if (True):\n",
    "            crop_image = cv2.resize(crop_image, (output_image_size, output_image_size), interpolation = cv2.INTER_CUBIC)\n",
    "            file_path = output_dir / f\"{output_png_filename_prefix}_{i}.png\"\n",
    "            cv2.imwrite(str(file_path), crop_image)\n",
    "        \n",
    "        area_size_list.append((crop_h, crop_w))\n",
    "    \n",
    "    return area_size_list\n",
    "\n",
    "#size_list = [process(params) for params in tqdm(parameters)]\n",
    "size_list = Parallel(n_jobs=-1, verbose=10)([delayed(process)(params) for params in parameters])\n",
    "None"
   ]
  },
  {
   "cell_type": "code",
   "execution_count": null,
   "metadata": {},
   "outputs": [],
   "source": [
    "w_list, h_list = list(zip(*itertools.chain.from_iterable(size_list)))\n",
    "\n",
    "#plt.hist(w_list, bins=16)\n",
    "\n",
    "num_scale_up = sum([1 for w in w_list if w < output_image_size])\n",
    "num_scale_down = len(w_list) - num_scale_up\n",
    "print(f\"total: {len(w_list)}, num_scale_down: {num_scale_down}, num_scale_up: {num_scale_up}, ratio: {num_scale_up / len(w_list)}\")"
   ]
  },
  {
   "cell_type": "code",
   "execution_count": null,
   "metadata": {},
   "outputs": [],
   "source": []
  }
 ],
 "metadata": {
  "kernelspec": {
   "display_name": "Python 3",
   "language": "python",
   "name": "python3"
  },
  "language_info": {
   "codemirror_mode": {
    "name": "ipython",
    "version": 3
   },
   "file_extension": ".py",
   "mimetype": "text/x-python",
   "name": "python",
   "nbconvert_exporter": "python",
   "pygments_lexer": "ipython3",
   "version": "3.7.7"
  }
 },
 "nbformat": 4,
 "nbformat_minor": 4
}
