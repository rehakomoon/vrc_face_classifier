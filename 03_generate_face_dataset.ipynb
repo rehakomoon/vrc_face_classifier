{
 "cells": [
  {
   "cell_type": "code",
   "execution_count": null,
   "metadata": {},
   "outputs": [],
   "source": [
    "from pathlib import Path\n",
    "import numpy as np\n",
    "import cv2\n",
    "import matplotlib.pyplot as plt\n",
    "from tqdm import tqdm\n",
    "import itertools\n",
    "from joblib import Parallel, delayed\n",
    "\n",
    "#%matplotlib inline\n",
    "\n",
    "data_path = Path.cwd() / \"data\"\n",
    "input_label_dir = data_path / \"labeled_data\"\n",
    "input_png_dir = data_path / \"collect_data\"\n",
    "output_dir = data_path / \"face_data\"\n",
    "\n",
    "output_dir.mkdir(exist_ok=True)"
   ]
  },
  {
   "cell_type": "code",
   "execution_count": null,
   "metadata": {},
   "outputs": [],
   "source": [
    "input_path_list = list(input_label_dir.glob(\"*.txt\"))\n",
    "\n",
    "# for debugging\n",
    "# input_path_list = input_path_list[:10]\n",
    "\n",
    "print(\"#labels:\", len(input_path_list))"
   ]
  },
  {
   "cell_type": "code",
   "execution_count": null,
   "metadata": {},
   "outputs": [],
   "source": [
    "parameters = input_path_list\n",
    "parameters = [(p, p.stem.split(\"_\")) for p in parameters]\n",
    "parameters = [p for p in parameters if len(p[1]) == 3]\n",
    "parameters = [(txt_path, input_png_dir / f\"{p[0]}_{p[1]}.png\", f\"{txt_path.stem}\", int(p[2])) for txt_path, p in parameters]\n",
    "\n",
    "# parameters\n",
    "# input_txt_path, input_png_path, output_png_filename_prefix, rotation"
   ]
  },
  {
   "cell_type": "code",
   "execution_count": null,
   "metadata": {},
   "outputs": [],
   "source": [
    "image_size = 256\n",
    "\n",
    "rotates = [lambda x: x,\n",
    "           lambda x: cv2.rotate(x, cv2.ROTATE_90_CLOCKWISE),\n",
    "           lambda x: cv2.rotate(x, cv2.ROTATE_180),\n",
    "           lambda x: cv2.rotate(x, cv2.ROTATE_90_COUNTERCLOCKWISE)]\n",
    "\n",
    "def process(params):\n",
    "    input_txt_path, input_png_path, output_png_filename_prefix, rotation = params\n",
    "    with open(input_txt_path, \"r\") as f:\n",
    "        lines = f.readlines()\n",
    "    lines = lines[2:]\n",
    "    lines = [l.strip() for l in lines]\n",
    "    data = [l.split(\" \") for l in lines]\n",
    "    data = [[int(e) for e in d] for d in data]\n",
    "\n",
    "    image = cv2.imread(str(input_png_path), cv2.IMREAD_COLOR)\n",
    "    image = rotates[rotation](image)\n",
    "    \n",
    "    if (False):\n",
    "        plt.imshow(cv2.cvtColor(image, cv2.COLOR_BGR2RGB))\n",
    "        plt.show()\n",
    "        \n",
    "    image_size_list = []\n",
    "\n",
    "    for i, area in enumerate(data):\n",
    "        assert len(area) == 5\n",
    "        x0, y0, x1, y1, _ = area\n",
    "\n",
    "        crop_image = image[y0:y1, x0:x1, :]\n",
    "        crop_h, crop_w, _ = crop_image.shape\n",
    "\n",
    "        if (False):\n",
    "            plt.imshow(cv2.cvtColor(crop_image, cv2.COLOR_BGR2RGB))\n",
    "            plt.show()\n",
    "\n",
    "        if (True):\n",
    "            crop_image = cv2.resize(crop_image, (image_size, image_size), interpolation = cv2.INTER_CUBIC)\n",
    "            file_path = output_dir / f\"{output_png_filename_prefix}_{i}.png\"\n",
    "            cv2.imwrite(str(file_path), crop_image)\n",
    "        \n",
    "        image_size_list.append((crop_h, crop_w))\n",
    "    \n",
    "    return image_size_list\n",
    "\n",
    "#size_list = [process(params) for params in tqdm(parameters)]\n",
    "size_list = Parallel(n_jobs=-1, verbose=10)([delayed(process)(params) for params in parameters])"
   ]
  },
  {
   "cell_type": "code",
   "execution_count": null,
   "metadata": {},
   "outputs": [],
   "source": [
    "size_list = itertools.chain.from_iterable(size_list)\n",
    "w_list, h_list = list(zip(*size_list))\n",
    "\n",
    "# import matplotlib.pyplot as plt\n",
    "# plt.hist(w_list, bins=16)\n",
    "\n",
    "num_scale_up = sum([1 for w in w_list if w < image_size])\n",
    "num_scale_down = len(w_list) - num_scale_up\n",
    "print(f\"total: {len(w_list)}, num_scale_down: {num_scale_down}, num_scale_up: {num_scale_up}, ratio: {num_scale_up / len(w_list)}\")"
   ]
  },
  {
   "cell_type": "code",
   "execution_count": null,
   "metadata": {},
   "outputs": [],
   "source": []
  }
 ],
 "metadata": {
  "kernelspec": {
   "display_name": "Python 3",
   "language": "python",
   "name": "python3"
  },
  "language_info": {
   "codemirror_mode": {
    "name": "ipython",
    "version": 3
   },
   "file_extension": ".py",
   "mimetype": "text/x-python",
   "name": "python",
   "nbconvert_exporter": "python",
   "pygments_lexer": "ipython3",
   "version": "3.7.7"
  }
 },
 "nbformat": 4,
 "nbformat_minor": 4
}
