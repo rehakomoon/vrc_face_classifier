{
 "cells": [
  {
   "cell_type": "code",
   "execution_count": null,
   "metadata": {},
   "outputs": [],
   "source": [
    "from pathlib import Path\n",
    "import numpy as np\n",
    "from joblib import Parallel, delayed\n",
    "from tqdm import tqdm\n",
    "import shutil\n",
    "\n",
    "data_path = Path.cwd() / \"data\"\n",
    "\n",
    "input_txt_dir_1 = data_path / \"labeled_data\"\n",
    "input_txt_dir_2 = data_path / \"inference_data\"\n",
    "output_dir = data_path / \"merged_data\"\n",
    "\n",
    "output_dir.mkdir(exist_ok=True)"
   ]
  },
  {
   "cell_type": "code",
   "execution_count": null,
   "metadata": {},
   "outputs": [],
   "source": [
    "input_txt_list_1 = input_txt_dir_1.glob(\"*.txt\")\n",
    "input_txt_list_2 = input_txt_dir_2.glob(\"*.txt\")\n",
    "input_txt_list_1 = [p.stem for p in input_txt_list_1]\n",
    "input_txt_list_2 = [p.stem for p in input_txt_list_2]\n",
    "\n",
    "# for debugging\n",
    "# input_txt_list_1 = input_txt_list_1[:10000]\n",
    "# input_txt_list_2 = input_txt_list_2[:10000]"
   ]
  },
  {
   "cell_type": "code",
   "execution_count": null,
   "metadata": {},
   "outputs": [],
   "source": [
    "input_txt_list_shared = [p for p in tqdm(input_txt_list_1) if (p in input_txt_list_2)]\n",
    "input_txt_list_1_unique = [p for p in tqdm(input_txt_list_1) if (p not in input_txt_list_shared)]\n",
    "input_txt_list_2_unique = [p for p in tqdm(input_txt_list_2) if (p not in input_txt_list_shared)]\n",
    "\n",
    "print(\"#1_unique: \", len(input_txt_list_1_unique),\n",
    "      \", #2_unique: \", len(input_txt_list_2_unique),\n",
    "      \", #shared: \", len(input_txt_list_shared))\n",
    "\n",
    "copy_file_list_1 = [(input_txt_dir_1 / (p + \".txt\"), output_dir / (p + \".txt\")) for p in input_txt_list_1_unique]\n",
    "copy_file_list_2 = [(input_txt_dir_2 / (p + \".txt\"), output_dir / (p + \".txt\")) for p in input_txt_list_2_unique]\n",
    "copy_file_list = copy_file_list_1 + copy_file_list_2\n",
    "merge_file_list = [(input_txt_dir_1 / (p + \".txt\"), input_txt_dir_2 / (p + \".txt\"), output_dir / (p + \".txt\")) for p in input_txt_list_shared]"
   ]
  },
  {
   "cell_type": "code",
   "execution_count": null,
   "metadata": {},
   "outputs": [],
   "source": [
    "#[shutil.copyfile(*params) for params in tqdm(copy_file_list)]\n",
    "Parallel(n_jobs=-1, verbose=10)([delayed(lambda x: shutil.copyfile(*x))(p) for p in copy_file_list])\n",
    "print(\"copy done.\")"
   ]
  },
  {
   "cell_type": "code",
   "execution_count": null,
   "metadata": {},
   "outputs": [],
   "source": [
    "def parse_annotation_file(lines):\n",
    "    lines = [l.strip() for l in lines]\n",
    "    image_size_str = lines[0]\n",
    "    num_area = int(lines[1])\n",
    "    areas = lines[2:]\n",
    "    assert(num_area == len(areas))\n",
    "    #areas = [area.split(\" \") for area in areas]\n",
    "    #areas = [(int(x0), int(y0), int(x1), int(y1)) for x0, y0, x1, y1, _ in areas]\n",
    "    return image_size_str, areas\n",
    "\n",
    "def process_merge(params):\n",
    "    input_txt_path_1, input_txt_path_2, output_txt_path = params\n",
    "    \n",
    "    with open(input_txt_path_1, \"r\") as f:\n",
    "        lines = f.readlines()\n",
    "    image_size_str_1, areas_1 = parse_annotation_file(lines)\n",
    "    \n",
    "    with open(input_txt_path_2, \"r\") as f:\n",
    "        lines = f.readlines()\n",
    "    image_size_str_2, areas_2 = parse_annotation_file(lines)\n",
    "    \n",
    "    assert(image_size_str_1 == image_size_str_2)\n",
    "    areas = areas_1 + areas_2\n",
    "    areas = \"\\n\".join(areas)\n",
    "    \n",
    "    annotation = f\"{image_size_str_1}\\n{areas}\"\n",
    "    \n",
    "    with open(output_txt_path, \"w\") as f:\n",
    "        f.write(annotation)\n",
    "\n",
    "#[process_merge(params) for params in tqdm(merge_file_list)]\n",
    "Parallel(n_jobs=-1, verbose=10)([delayed(process_merge)(p) for p in merge_file_list])\n",
    "print(\"merge done.\")"
   ]
  },
  {
   "cell_type": "code",
   "execution_count": null,
   "metadata": {},
   "outputs": [],
   "source": [
    "print(\"output done.\")"
   ]
  },
  {
   "cell_type": "code",
   "execution_count": null,
   "metadata": {},
   "outputs": [],
   "source": []
  }
 ],
 "metadata": {
  "kernelspec": {
   "display_name": "Python 3",
   "language": "python",
   "name": "python3"
  },
  "language_info": {
   "codemirror_mode": {
    "name": "ipython",
    "version": 3
   },
   "file_extension": ".py",
   "mimetype": "text/x-python",
   "name": "python",
   "nbconvert_exporter": "python",
   "pygments_lexer": "ipython3",
   "version": "3.7.7"
  }
 },
 "nbformat": 4,
 "nbformat_minor": 4
}
