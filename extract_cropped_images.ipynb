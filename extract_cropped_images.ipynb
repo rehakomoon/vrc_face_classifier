{
 "cells": [
  {
   "cell_type": "code",
   "execution_count": null,
   "metadata": {},
   "outputs": [],
   "source": [
    "from pathlib import Path\n",
    "import numpy as np\n",
    "from PIL import Image\n",
    "import cv2\n",
    "import matplotlib.pyplot as plt\n",
    "from joblib import Parallel, delayed\n",
    "from tqdm import tqdm\n",
    "import shutil\n",
    "import math\n",
    "import random\n",
    "\n",
    "# %matplotlib inline\n",
    "\n",
    "data_path = Path.cwd() / \"data\"\n",
    "input_dir = data_path / \"labeled_data\"\n",
    "output_dir = data_path / \"cropped_data\"\n",
    "\n",
    "output_dir.mkdir(exist_ok=True)"
   ]
  },
  {
   "cell_type": "code",
   "execution_count": null,
   "metadata": {},
   "outputs": [],
   "source": [
    "def process(txt_path, png_path):\n",
    "    with open(txt_path, \"r\") as f:\n",
    "        lines = f.readlines()\n",
    "    lines = lines[2:]\n",
    "    lines = [l.strip() for l in lines]\n",
    "    data = [l.split(\" \") for l in lines]\n",
    "    data = [[int(e) for e in d] for d in data]\n",
    "\n",
    "    load_img = cv2.imread(str(png_path), cv2.IMREAD_COLOR)\n",
    "    image_h, image_w, _ = load_img.shape\n",
    "\n",
    "    if (False):\n",
    "        plt.imshow(cv2.cvtColor(load_img, cv2.COLOR_BGR2RGB))\n",
    "        plt.show()\n",
    "\n",
    "    for i, area in enumerate(data):\n",
    "        assert len(area) == 5\n",
    "        x0, y0, x1, y1, _ = area\n",
    "\n",
    "        crop_image = load_img[y0:y1, x0:x1, :]\n",
    "        if (False):\n",
    "            plt.imshow(cv2.cvtColor(crop_image, cv2.COLOR_BGR2RGB))\n",
    "            plt.show()\n",
    "\n",
    "        if (True):\n",
    "            filename_prefix = png_path.stem\n",
    "            file_path = output_dir / f\"{filename_prefix}_{i}.png\"\n",
    "            cv2.imwrite(str(file_path), crop_image)\n",
    "\n",
    "input_path_list = list(input_dir.glob(\"*.txt\"))\n",
    "input_path_list = [(txt_path, input_dir / (txt_path.stem + \".png\")) for txt_path in input_path_list]\n",
    "input_path_list = [e for e in input_path_list if e[1].exists()]\n",
    "\n",
    "Parallel(n_jobs=-1, verbose=10)([delayed(process)(*params) for params in input_path_list])\n",
    "None"
   ]
  },
  {
   "cell_type": "code",
   "execution_count": null,
   "metadata": {},
   "outputs": [],
   "source": [
    "def read_and_resize(image_path, resize_image_size):\n",
    "    image = cv2.imread(str(image_path), cv2.IMREAD_COLOR)\n",
    "    image = cv2.resize(image, resize_image_size)\n",
    "    return image\n",
    "\n",
    "resize_image_size = (32, 32)\n",
    "image_path_list = list(output_dir.glob(\"*.png\"))\n",
    "random.shuffle(image_path_list)\n",
    "# for debugging\n",
    "# image_path_list = image_path_list[:100]\n",
    "\n",
    "num_image_col = int(math.sqrt(len(image_path_list)))\n",
    "image_path_list = image_path_list[:num_image_col ** 2]\n",
    "\n",
    "images = [read_and_resize(p, resize_image_size) for p in tqdm(image_path_list)]\n",
    "\n",
    "pos = list(range(len(image_path_list)))\n",
    "pos = [(x%num_image_col, math.floor(x/num_image_col)) for x in pos]\n",
    "pos = [(y*resize_image_size[0], x*resize_image_size[1]) for y, x in pos]\n",
    "\n",
    "export_image = np.zeros((resize_image_size[1]*num_image_col, resize_image_size[0]*num_image_col, 3), dtype=np.uint8)\n",
    "for image, p in zip(images, pos):\n",
    "    export_image[p[0]:p[0]+resize_image_size[0], p[1]:p[1]+resize_image_size[1], :] = image\n",
    "\n",
    "plt.imshow(cv2.cvtColor(export_image, cv2.COLOR_BGR2RGB))\n",
    "plt.show()\n",
    "\n",
    "cv2.imwrite(str(data_path / \"faces.png\"), export_image)\n",
    "None"
   ]
  },
  {
   "cell_type": "code",
   "execution_count": null,
   "metadata": {},
   "outputs": [],
   "source": []
  }
 ],
 "metadata": {
  "kernelspec": {
   "display_name": "Python 3",
   "language": "python",
   "name": "python3"
  },
  "language_info": {
   "codemirror_mode": {
    "name": "ipython",
    "version": 3
   },
   "file_extension": ".py",
   "mimetype": "text/x-python",
   "name": "python",
   "nbconvert_exporter": "python",
   "pygments_lexer": "ipython3",
   "version": "3.7.7"
  }
 },
 "nbformat": 4,
 "nbformat_minor": 4
}
