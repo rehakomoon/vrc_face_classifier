{
 "cells": [
  {
   "cell_type": "code",
   "execution_count": 7,
   "metadata": {},
   "outputs": [],
   "source": [
    "from pathlib import Path\n",
    "\n",
    "data_path = Path.cwd() / \"data\"\n",
    "input_dir = data_path / \"labeled_data\"\n",
    "output_train_path = data_path / \"train.txt\"\n",
    "output_test_path = data_path / \"test.txt\"\n",
    "\n",
    "input_path_list = list(input_dir.glob(\"*.txt\"))\n",
    "input_path_list = [input_dir / (txt_path.stem + \".png\") for txt_path in input_path_list]\n",
    "input_path_list = [p for p in input_path_list if p.exists()]\n",
    "input_path_list = [str(p) for p in input_path_list]\n",
    "input_path_list = [s.replace(\"\\\\\", \"/\") for s in input_path_list]\n",
    "\n",
    "train_input_path_list = \"\\n\".join(input_path_list)\n",
    "\n",
    "test_input_path_list = input_path_list[:10]\n",
    "test_input_path_list = \"\\n\".join(test_input_path_list)\n",
    "\n",
    "with open(output_train_path, \"w\") as f:\n",
    "    f.writelines(train_input_path_list)\n",
    "with open(output_test_path, \"w\") as f:\n",
    "    f.writelines(test_input_path_list)"
   ]
  },
  {
   "cell_type": "code",
   "execution_count": null,
   "metadata": {},
   "outputs": [],
   "source": []
  }
 ],
 "metadata": {
  "kernelspec": {
   "display_name": "Python 3",
   "language": "python",
   "name": "python3"
  },
  "language_info": {
   "codemirror_mode": {
    "name": "ipython",
    "version": 3
   },
   "file_extension": ".py",
   "mimetype": "text/x-python",
   "name": "python",
   "nbconvert_exporter": "python",
   "pygments_lexer": "ipython3",
   "version": "3.7.7"
  }
 },
 "nbformat": 4,
 "nbformat_minor": 4
}
