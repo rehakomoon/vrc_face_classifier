{
 "cells": [
  {
   "cell_type": "code",
   "execution_count": null,
   "metadata": {},
   "outputs": [],
   "source": [
    "import os\n",
    "from pathlib import Path\n",
    "from joblib import Parallel, delayed\n",
    "from tqdm import tqdm\n",
    "import shutil\n",
    "import itertools\n",
    "import numpy as np\n",
    "import time\n",
    "import math\n",
    "import cv2\n",
    "import torch\n",
    "from torch.utils.data import DataLoader\n",
    "from utils import FaceInferenceImageDataset, load_dataset_dir, load_inference_dir, FilterCategory\n",
    "\n",
    "import matplotlib.pyplot as plt\n",
    "%matplotlib inline"
   ]
  },
  {
   "cell_type": "code",
   "execution_count": null,
   "metadata": {},
   "outputs": [],
   "source": [
    "input_dir = Path.cwd() / \"data_filter/output\"\n",
    "output_path = Path.cwd() / \"data_filter/filtered_list.txt\""
   ]
  },
  {
   "cell_type": "code",
   "execution_count": null,
   "metadata": {},
   "outputs": [],
   "source": [
    "resize_margin = 2\n",
    "\n",
    "src_list = load_dataset_dir(input_dir, FilterCategory)\n",
    "src_list = [p.stem.split(\"_\") for p, l in src_list if l == FilterCategory.correct]\n",
    "assert(min([len(l) for l in src_list]) >= 4)\n",
    "src_list = [(\"_\".join(l[0:3]), l[3], len(l)-4) for l in src_list]\n",
    "\n",
    "if True:\n",
    "    estimated_scales = [l for _, _, l in src_list]\n",
    "    plt.hist(estimated_scales, bins=16)\n",
    "None\n",
    "\n",
    "src_list = [(s, f\"{n}_{str(max(0, l-resize_margin))}\") for s, n, l in src_list]"
   ]
  },
  {
   "cell_type": "code",
   "execution_count": null,
   "metadata": {},
   "outputs": [],
   "source": [
    "keys = set(list(zip(*src_list))[0])\n",
    "parameters = {k: [] for k in keys}\n",
    "\n",
    "for filename, areaname in src_list:\n",
    "    parameters[filename].append(areaname)\n",
    "\n",
    "output_list = [(s, \", \".join(sorted(l))) for s, l in parameters.items()]\n",
    "output_list = sorted(output_list)\n",
    "output_list = [\": \".join(p) for p in output_list]"
   ]
  },
  {
   "cell_type": "code",
   "execution_count": null,
   "metadata": {},
   "outputs": [],
   "source": [
    "output_list = \"\\n\".join(output_list) + \"\\n\"\n",
    "with open(output_path, \"w\") as f:\n",
    "    f.write(output_list)\n",
    "print(\"save done\")"
   ]
  },
  {
   "cell_type": "code",
   "execution_count": null,
   "metadata": {},
   "outputs": [],
   "source": []
  }
 ],
 "metadata": {
  "kernelspec": {
   "display_name": "Python 3",
   "language": "python",
   "name": "python3"
  },
  "language_info": {
   "codemirror_mode": {
    "name": "ipython",
    "version": 3
   },
   "file_extension": ".py",
   "mimetype": "text/x-python",
   "name": "python",
   "nbconvert_exporter": "python",
   "pygments_lexer": "ipython3",
   "version": "3.7.7"
  }
 },
 "nbformat": 4,
 "nbformat_minor": 4
}
