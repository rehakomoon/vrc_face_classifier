{
 "cells": [
  {
   "cell_type": "code",
   "execution_count": null,
   "metadata": {},
   "outputs": [],
   "source": [
    "import os\n",
    "from pathlib import Path\n",
    "from joblib import Parallel, delayed\n",
    "from tqdm import tqdm\n",
    "import shutil\n",
    "import itertools\n",
    "import time\n",
    "from utils import ScaleCategory, load_dataset_dir\n",
    "\n",
    "data_dir = Path.cwd() / \"data_scale\"\n",
    "dataset_dir = data_dir / \"dataset\"\n",
    "dataset_tmp_dir = data_dir / \"dataset_tmp\""
   ]
  },
  {
   "cell_type": "code",
   "execution_count": null,
   "metadata": {},
   "outputs": [],
   "source": [
    "shutil.rmtree(dataset_tmp_dir, ignore_errors=True)\n",
    "time.sleep(1)\n",
    "dataset_tmp_dir.mkdir(exist_ok=True)\n",
    "for category in ScaleCategory:\n",
    "    category_dir = dataset_tmp_dir / category.name\n",
    "    category_dir.mkdir(exist_ok=True)"
   ]
  },
  {
   "cell_type": "code",
   "execution_count": null,
   "metadata": {},
   "outputs": [],
   "source": [
    "parameters = load_dataset_dir(dataset_dir, ScaleCategory)\n",
    "keys = [p.stem.split(\"_\") for p, _ in parameters]\n",
    "assert(min([len(l) for l in keys]) >= 4)\n",
    "keys = [\"_\".join(l[0:4]) for l in keys]\n",
    "keys = set(keys)\n",
    "keys = list(keys)\n",
    "\n",
    "parameters = [(p.stem.split(\"_\"), p, l) for p, l in parameters]\n",
    "assert(min([len(k) for k, _, _ in parameters]) >= 4)\n",
    "parameters = [(\"_\".join(k[0:4]), len(k)-4, p, l) for k, p, l in parameters]\n",
    "keys = set(list(zip(*parameters))[0])\n",
    "keys = sorted(list(keys))\n",
    "filename_update_dict = enumerate(keys)\n",
    "filename_update_dict = {k: f\"prev_{i:08}\" for i, k in filename_update_dict}\n",
    "\n",
    "parameters = [(l.name, filename_update_dict[k], \"_\"*s, p) for k, s, p, l in parameters]\n",
    "parameters = [(p, dataset_tmp_dir / f\"{d}/{f}{s}.png\") for d, f, s, p in parameters]\n",
    "\n",
    "print(\"#keep:\", len(parameters), \"#images: \", len(keys))"
   ]
  },
  {
   "cell_type": "code",
   "execution_count": null,
   "metadata": {},
   "outputs": [],
   "source": [
    "for src_path, dst_path in tqdm(parameters):\n",
    "    shutil.move(src_path, dst_path)"
   ]
  },
  {
   "cell_type": "code",
   "execution_count": null,
   "metadata": {},
   "outputs": [],
   "source": [
    "shutil.rmtree(dataset_dir, ignore_errors=True)\n",
    "time.sleep(1)\n",
    "shutil.move(dataset_tmp_dir, dataset_dir)\n",
    "None"
   ]
  },
  {
   "cell_type": "code",
   "execution_count": null,
   "metadata": {},
   "outputs": [],
   "source": []
  }
 ],
 "metadata": {
  "kernelspec": {
   "display_name": "Python 3",
   "language": "python",
   "name": "python3"
  },
  "language_info": {
   "codemirror_mode": {
    "name": "ipython",
    "version": 3
   },
   "file_extension": ".py",
   "mimetype": "text/x-python",
   "name": "python",
   "nbconvert_exporter": "python",
   "pygments_lexer": "ipython3",
   "version": "3.7.7"
  }
 },
 "nbformat": 4,
 "nbformat_minor": 4
}
