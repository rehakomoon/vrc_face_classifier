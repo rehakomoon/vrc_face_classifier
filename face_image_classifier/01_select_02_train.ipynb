{
 "cells": [
  {
   "cell_type": "code",
   "execution_count": null,
   "metadata": {},
   "outputs": [],
   "source": [
    "import os\n",
    "from pathlib import Path\n",
    "from joblib import Parallel, delayed\n",
    "from tqdm import tqdm\n",
    "import shutil\n",
    "import itertools\n",
    "import pytorch_lightning as pl\n",
    "from utils import PyLModel, find_latest_checkpoint_path\n",
    "\n",
    "data_dir = Path.cwd() / \"data_select\"\n",
    "dataset_dir = data_dir / \"dataset\"\n",
    "log_dir = data_dir / \"log\""
   ]
  },
  {
   "cell_type": "code",
   "execution_count": null,
   "metadata": {},
   "outputs": [],
   "source": [
    "device = \"cuda\"\n",
    "\n",
    "max_epochs = 100\n",
    "\n",
    "lr=0.0001\n",
    "#lr=0.00001\n",
    "\n",
    "batch_size=256\n",
    "validation_data_ratio=0.05\n",
    "scheduler_step=10\n",
    "scheduler_gamma=0.5"
   ]
  },
  {
   "cell_type": "code",
   "execution_count": null,
   "metadata": {},
   "outputs": [],
   "source": [
    "checkpoint_path = find_latest_checkpoint_path(log_dir / \"lightning_logs\")\n",
    "\n",
    "if (checkpoint_path is None):\n",
    "    model = PyLModel(\n",
    "        dataset_dir=dataset_dir,\n",
    "        category=\"select\",\n",
    "        lr=lr,\n",
    "        batch_size=batch_size,\n",
    "        validation_data_ratio=validation_data_ratio,\n",
    "        scheduler_step=scheduler_step,\n",
    "        scheduler_gamma=scheduler_gamma,\n",
    "        train_transform=\"full_augmentation\",\n",
    "    )\n",
    "    print(\"No checkpoint found.\")\n",
    "else:\n",
    "    model = PyLModel.load_from_checkpoint(\n",
    "        str(checkpoint_path),\n",
    "        dataset_dir=dataset_dir,\n",
    "        category=\"select\",\n",
    "        lr=lr,\n",
    "        batch_size=batch_size,\n",
    "        validation_data_ratio=validation_data_ratio,\n",
    "        scheduler_step=scheduler_step,\n",
    "        scheduler_gamma=scheduler_gamma,\n",
    "        train_transform=\"full_augmentation\",\n",
    "    )\n",
    "    print(\"Load:\", checkpoint_path)"
   ]
  },
  {
   "cell_type": "code",
   "execution_count": null,
   "metadata": {},
   "outputs": [],
   "source": [
    "checkpoint_callback = pl.callbacks.ModelCheckpoint(\n",
    "    save_top_k = 1,\n",
    "    verbose=True,\n",
    "    monitor = \"avg_val_loss\",\n",
    "    mode = \"min\",\n",
    ")\n",
    "\n",
    "trainer = pl.Trainer(gpus=[0],\n",
    "                     max_epochs=max_epochs,\n",
    "                     checkpoint_callback=checkpoint_callback,\n",
    "                     default_root_dir=log_dir,\n",
    "                    )"
   ]
  },
  {
   "cell_type": "code",
   "execution_count": null,
   "metadata": {},
   "outputs": [],
   "source": [
    "model  = model.to(device)\n",
    "trainer.fit(model)"
   ]
  },
  {
   "cell_type": "code",
   "execution_count": null,
   "metadata": {},
   "outputs": [],
   "source": []
  }
 ],
 "metadata": {
  "kernelspec": {
   "display_name": "Python 3",
   "language": "python",
   "name": "python3"
  },
  "language_info": {
   "codemirror_mode": {
    "name": "ipython",
    "version": 3
   },
   "file_extension": ".py",
   "mimetype": "text/x-python",
   "name": "python",
   "nbconvert_exporter": "python",
   "pygments_lexer": "ipython3",
   "version": "3.7.7"
  }
 },
 "nbformat": 4,
 "nbformat_minor": 4
}
