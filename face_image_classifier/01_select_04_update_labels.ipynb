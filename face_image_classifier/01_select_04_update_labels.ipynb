{
 "cells": [
  {
   "cell_type": "code",
   "execution_count": null,
   "metadata": {},
   "outputs": [],
   "source": [
    "import os\n",
    "from pathlib import Path\n",
    "from joblib import Parallel, delayed\n",
    "from tqdm import tqdm\n",
    "import shutil\n",
    "import itertools\n",
    "from utils import SelectCategory\n",
    "\n",
    "data_dir = Path.cwd() / \"data_select\"\n",
    "dataset_dir = data_dir / \"dataset\"\n",
    "update_dir = data_dir / \"update\""
   ]
  },
  {
   "cell_type": "code",
   "execution_count": null,
   "metadata": {},
   "outputs": [],
   "source": [
    "labeled_dirs = [dataset_dir / c.name for c in SelectCategory]\n",
    "labeled_image_paths = [d.glob(\"*.png\") for d in labeled_dirs]\n",
    "labeled_image_paths = itertools.chain.from_iterable(labeled_image_paths)\n",
    "labeled_image_paths = {p.stem: p for p in labeled_image_paths}\n",
    "\n",
    "parameters = [(update_dir / c.name, dataset_dir / c.name) for c in SelectCategory]\n",
    "parameters = [[(p, p.stem, dst_dir) for p in update_dir.glob(\"*.png\")] for update_dir, dst_dir in parameters]\n",
    "parameters = itertools.chain.from_iterable(parameters)\n",
    "\n",
    "parameters = [(src_path, labeled_image_paths.get(name), dst_dir / src_path.name) for src_path, name, dst_dir in parameters]"
   ]
  },
  {
   "cell_type": "code",
   "execution_count": null,
   "metadata": {},
   "outputs": [],
   "source": [
    "for src_path, remove_path, dst_path in tqdm(parameters):\n",
    "    if remove_path is not None:\n",
    "        os.remove(remove_path)\n",
    "    shutil.copyfile(src_path, dst_path)"
   ]
  },
  {
   "cell_type": "code",
   "execution_count": null,
   "metadata": {},
   "outputs": [],
   "source": []
  }
 ],
 "metadata": {
  "kernelspec": {
   "display_name": "Python 3",
   "language": "python",
   "name": "python3"
  },
  "language_info": {
   "codemirror_mode": {
    "name": "ipython",
    "version": 3
   },
   "file_extension": ".py",
   "mimetype": "text/x-python",
   "name": "python",
   "nbconvert_exporter": "python",
   "pygments_lexer": "ipython3",
   "version": "3.7.7"
  }
 },
 "nbformat": 4,
 "nbformat_minor": 4
}
