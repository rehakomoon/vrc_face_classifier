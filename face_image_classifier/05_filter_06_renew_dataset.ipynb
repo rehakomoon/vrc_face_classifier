{
 "cells": [
  {
   "cell_type": "code",
   "execution_count": null,
   "metadata": {},
   "outputs": [],
   "source": [
    "import os\n",
    "from pathlib import Path\n",
    "from joblib import Parallel, delayed\n",
    "from tqdm import tqdm\n",
    "import shutil\n",
    "import itertools\n",
    "import time\n",
    "from utils import FilterCategory, load_dataset_dir\n",
    "\n",
    "data_dir = Path.cwd() / \"data_filter\"\n",
    "dataset_dir = data_dir / \"dataset\"\n",
    "dataset_tmp_dir = data_dir / \"dataset_tmp\""
   ]
  },
  {
   "cell_type": "code",
   "execution_count": null,
   "metadata": {},
   "outputs": [],
   "source": [
    "shutil.rmtree(dataset_tmp_dir, ignore_errors=True)\n",
    "time.sleep(1)\n",
    "dataset_tmp_dir.mkdir(exist_ok=True)\n",
    "for category in FilterCategory:\n",
    "    category_dir = dataset_tmp_dir / category.name\n",
    "    category_dir.mkdir(exist_ok=True)"
   ]
  },
  {
   "cell_type": "code",
   "execution_count": null,
   "metadata": {},
   "outputs": [],
   "source": [
    "parameters = load_dataset_dir(dataset_dir, FilterCategory)\n",
    "parameters = [(p.name, p, l) for p, l in parameters]\n",
    "parameters = sorted(parameters)\n",
    "parameters = [(path, dataset_tmp_dir / f\"{label.name}/prev_{idx:08}.png\") for idx, (name, path, label) in enumerate(parameters)]\n",
    "\n",
    "print(\"#keep:\", len(parameters))"
   ]
  },
  {
   "cell_type": "code",
   "execution_count": null,
   "metadata": {},
   "outputs": [],
   "source": [
    "for src_path, dst_path in tqdm(parameters):\n",
    "    shutil.move(src_path, dst_path)"
   ]
  },
  {
   "cell_type": "code",
   "execution_count": null,
   "metadata": {},
   "outputs": [],
   "source": [
    "shutil.rmtree(dataset_dir, ignore_errors=True)\n",
    "time.sleep(1)\n",
    "shutil.move(dataset_tmp_dir, dataset_dir)\n",
    "None"
   ]
  },
  {
   "cell_type": "code",
   "execution_count": null,
   "metadata": {},
   "outputs": [],
   "source": []
  }
 ],
 "metadata": {
  "kernelspec": {
   "display_name": "Python 3",
   "language": "python",
   "name": "python3"
  },
  "language_info": {
   "codemirror_mode": {
    "name": "ipython",
    "version": 3
   },
   "file_extension": ".py",
   "mimetype": "text/x-python",
   "name": "python",
   "nbconvert_exporter": "python",
   "pygments_lexer": "ipython3",
   "version": "3.7.7"
  }
 },
 "nbformat": 4,
 "nbformat_minor": 4
}
