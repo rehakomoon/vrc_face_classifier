{
 "cells": [
  {
   "cell_type": "code",
   "execution_count": null,
   "metadata": {},
   "outputs": [],
   "source": [
    "import os\n",
    "from pathlib import Path\n",
    "import random\n",
    "from joblib import Parallel, delayed\n",
    "from tqdm import tqdm\n",
    "import shutil\n",
    "import itertools\n",
    "import time\n",
    "from utils import FilterCategory, load_dataset_dir\n",
    "\n",
    "data_dir = Path.cwd() / \"data_filter\"\n",
    "dataset_dir = data_dir / \"dataset\"\n",
    "raw_dir = data_dir / \"raw\"\n",
    "inference_dir = data_dir / \"inference\""
   ]
  },
  {
   "cell_type": "code",
   "execution_count": null,
   "metadata": {},
   "outputs": [],
   "source": [
    "shutil.rmtree(inference_dir, ignore_errors=True)\n",
    "time.sleep(1)\n",
    "inference_dir.mkdir(exist_ok=True)\n",
    "\n",
    "dataset_dir.mkdir(exist_ok=True)\n",
    "for category in FilterCategory:\n",
    "    category_dir = dataset_dir / category.name\n",
    "    category_dir.mkdir(exist_ok=True)"
   ]
  },
  {
   "cell_type": "code",
   "execution_count": null,
   "metadata": {},
   "outputs": [],
   "source": [
    "data = load_dataset_dir(dataset_dir, FilterCategory)\n",
    "labeled_filenames = [p.name for p, _ in data]\n",
    "raw_filenames = [p.name for p in raw_dir.glob(\"*.png\")]\n",
    "\n",
    "raw_filenames = set(raw_filenames)\n",
    "labeled_filenames = set(labeled_filenames)\n",
    "not_labeled_filenames = raw_filenames.difference(labeled_filenames)\n",
    "not_labeled_filenames = list(not_labeled_filenames)\n",
    "\n",
    "random.shuffle(not_labeled_filenames)\n",
    "not_labeled_filenames = not_labeled_filenames[:30000-len(labeled_filenames)]\n",
    "\n",
    "print(\"#labeled:\", len(labeled_filenames), \"#inference:\", len(not_labeled_filenames))"
   ]
  },
  {
   "cell_type": "code",
   "execution_count": null,
   "metadata": {},
   "outputs": [],
   "source": [
    "for filename in tqdm(not_labeled_filenames):\n",
    "    shutil.copyfile(raw_dir / filename, inference_dir / filename)"
   ]
  },
  {
   "cell_type": "code",
   "execution_count": null,
   "metadata": {},
   "outputs": [],
   "source": []
  }
 ],
 "metadata": {
  "kernelspec": {
   "display_name": "Python 3",
   "language": "python",
   "name": "python3"
  },
  "language_info": {
   "codemirror_mode": {
    "name": "ipython",
    "version": 3
   },
   "file_extension": ".py",
   "mimetype": "text/x-python",
   "name": "python",
   "nbconvert_exporter": "python",
   "pygments_lexer": "ipython3",
   "version": "3.7.7"
  }
 },
 "nbformat": 4,
 "nbformat_minor": 4
}
