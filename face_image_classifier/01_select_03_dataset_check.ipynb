{
 "cells": [
  {
   "cell_type": "code",
   "execution_count": null,
   "metadata": {},
   "outputs": [],
   "source": [
    "import os\n",
    "from pathlib import Path\n",
    "from joblib import Parallel, delayed\n",
    "from tqdm import tqdm\n",
    "import shutil\n",
    "import itertools\n",
    "import numpy as np\n",
    "import time\n",
    "import torch\n",
    "from torch.utils.data import DataLoader\n",
    "from utils import FaceImageDataset, FaceDataset, PyLModel\n",
    "from utils import SelectCategory, find_latest_checkpoint_path\n",
    "\n",
    "data_dir = Path.cwd() / \"data_select\"\n",
    "dataset_dir = data_dir / \"dataset\"\n",
    "log_dir = data_dir / \"log\"\n",
    "check_output_dir = data_dir / \"check_output\"\n",
    "update_dir = data_dir / \"update\""
   ]
  },
  {
   "cell_type": "code",
   "execution_count": null,
   "metadata": {},
   "outputs": [],
   "source": [
    "shutil.rmtree(check_output_dir, ignore_errors=True)\n",
    "shutil.rmtree(update_dir, ignore_errors=True)\n",
    "time.sleep(1)\n",
    "check_output_dir.mkdir(exist_ok=True)\n",
    "update_dir.mkdir(exist_ok=True)\n",
    "\n",
    "for category in SelectCategory:\n",
    "    (check_output_dir / category.name).mkdir(exist_ok=True)\n",
    "    (update_dir / category.name).mkdir(exist_ok=True)"
   ]
  },
  {
   "cell_type": "code",
   "execution_count": null,
   "metadata": {},
   "outputs": [],
   "source": [
    "device = \"cuda\"\n",
    "#device = \"cpu\"\n",
    "\n",
    "batch_size=512"
   ]
  },
  {
   "cell_type": "code",
   "execution_count": null,
   "metadata": {},
   "outputs": [],
   "source": [
    "dataset = FaceImageDataset(dataset_dir, SelectCategory)\n",
    "dataset = FaceDataset(dataset, with_flipped=True)\n",
    "dataloader = DataLoader(dataset, batch_size=batch_size, shuffle=False, num_workers=8)\n",
    "#dataloader = DataLoader(dataset, batch_size=batch_size, shuffle=False)\n",
    "\n",
    "checkpoint_path = find_latest_checkpoint_path(log_dir / \"lightning_logs\")\n",
    "assert(checkpoint_path is not None)\n",
    "\n",
    "model = PyLModel.load_from_checkpoint(str(checkpoint_path))\n",
    "print(\"Load:\", checkpoint_path)"
   ]
  },
  {
   "cell_type": "code",
   "execution_count": null,
   "metadata": {},
   "outputs": [],
   "source": [
    "model = model.to(device)\n",
    "model = model.eval()"
   ]
  },
  {
   "cell_type": "code",
   "execution_count": null,
   "metadata": {},
   "outputs": [],
   "source": [
    "prob_list = []\n",
    "\n",
    "with torch.no_grad():\n",
    "    for batch in tqdm(dataloader):\n",
    "        batch, batch_flip, label = batch\n",
    "        batch_size = len(batch)\n",
    "        \n",
    "        batch = torch.cat([batch, batch_flip], dim=0)\n",
    "        batch = batch.to(device)\n",
    "        label = label.to(device)\n",
    "        \n",
    "        pred = model(batch)\n",
    "        \n",
    "        pred = pred.view(2, batch_size, len(SelectCategory))\n",
    "        label = label.view(1, batch_size, 1).repeat(2, 1, 1)\n",
    "        pred = pred.gather(dim=2, index=label)\n",
    "        pred = pred.reshape(2, batch_size)\n",
    "        pred = pred.exp()\n",
    "        prob, _ = pred.min(dim=0)\n",
    "\n",
    "        prob = prob.cpu().numpy()\n",
    "        prob_list.append(prob)\n",
    "\n",
    "prob_list = np.concatenate(prob_list, axis=0)"
   ]
  },
  {
   "cell_type": "code",
   "execution_count": null,
   "metadata": {},
   "outputs": [],
   "source": [
    "check_threshold = 0.9\n",
    "check_list = (prob_list < check_threshold)\n",
    "\n",
    "image_files = dataset.dataset.data\n",
    "assert(len(check_list) == len(image_files))\n",
    "\n",
    "parameters = zip(image_files, check_list)\n",
    "parameters = [(p, SelectCategory(l).name) for (p, l), flag in parameters if flag]\n",
    "parameters = [(p, check_output_dir / f\"{l}/{p.name}\") for p, l in parameters]\n",
    "\n",
    "assert(len(parameters) == sum(check_list))"
   ]
  },
  {
   "cell_type": "code",
   "execution_count": null,
   "metadata": {},
   "outputs": [],
   "source": [
    "for src_path, dst_path in tqdm(parameters):\n",
    "    shutil.copyfile(src_path, dst_path)"
   ]
  },
  {
   "cell_type": "code",
   "execution_count": null,
   "metadata": {},
   "outputs": [],
   "source": []
  }
 ],
 "metadata": {
  "kernelspec": {
   "display_name": "Python 3",
   "language": "python",
   "name": "python3"
  },
  "language_info": {
   "codemirror_mode": {
    "name": "ipython",
    "version": 3
   },
   "file_extension": ".py",
   "mimetype": "text/x-python",
   "name": "python",
   "nbconvert_exporter": "python",
   "pygments_lexer": "ipython3",
   "version": "3.7.7"
  }
 },
 "nbformat": 4,
 "nbformat_minor": 4
}
