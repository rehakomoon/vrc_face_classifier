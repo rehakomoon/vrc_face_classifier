{
 "cells": [
  {
   "cell_type": "code",
   "execution_count": null,
   "metadata": {},
   "outputs": [],
   "source": [
    "import os\n",
    "from pathlib import Path\n",
    "import math\n",
    "from joblib import Parallel, delayed\n",
    "from tqdm import tqdm\n",
    "import shutil\n",
    "import itertools\n",
    "import cv2\n",
    "import time\n",
    "from utils import ScaleCategory, load_dataset_dir\n",
    "\n",
    "#import matplotlib.pyplot as plt\n",
    "#%matplotlib inline\n",
    "\n",
    "data_dir = Path.cwd() / \"data_scale\"\n",
    "dataset_dir = data_dir / \"dataset\"\n",
    "inference_dir = data_dir / \"inference\""
   ]
  },
  {
   "cell_type": "code",
   "execution_count": null,
   "metadata": {},
   "outputs": [],
   "source": [
    "shutil.rmtree(inference_dir, ignore_errors=True)\n",
    "time.sleep(1)\n",
    "inference_dir.mkdir(exist_ok=True)"
   ]
  },
  {
   "cell_type": "code",
   "execution_count": null,
   "metadata": {},
   "outputs": [],
   "source": [
    "dataset_files = load_dataset_dir(dataset_dir, ScaleCategory)\n",
    "dataset_files = [p.stem for p, _ in dataset_files]\n",
    "\n",
    "still_valid_images_dir = dataset_dir / ScaleCategory.valid.name\n",
    "parameters = list(still_valid_images_dir.glob(\"*.png\"))\n",
    "print(\"candidate files:\", len(parameters))\n",
    "\n",
    "parameters = [(p, p.stem + \"_\") for p in parameters]\n",
    "parameters = [(p, inference_dir / (name + \".png\")) for p, name in parameters if not name in dataset_files]\n",
    "\n",
    "print(\"resize files:\", len(parameters))"
   ]
  },
  {
   "cell_type": "code",
   "execution_count": null,
   "metadata": {},
   "outputs": [],
   "source": [
    "scale_factor = 0.2\n",
    "\n",
    "def process(param):\n",
    "    src_path, dst_path = param\n",
    "\n",
    "    image = cv2.imread(str(src_path), cv2.IMREAD_COLOR)\n",
    "    image_h, image_w, _ = image.shape\n",
    "\n",
    "    trim_w = math.ceil(image_w * scale_factor * 0.5)\n",
    "    trim_h = math.ceil(image_h * scale_factor * 0.5)\n",
    "\n",
    "    crop_image = image[trim_h:image_h-trim_h-1, trim_w:image_w-trim_w-1, :]\n",
    "    crop_image = cv2.resize(crop_image, (image_w, image_h), interpolation = cv2.INTER_CUBIC)\n",
    "\n",
    "    if (False):\n",
    "        plt.imshow(cv2.cvtColor(image, cv2.COLOR_BGR2RGB))\n",
    "        plt.show()\n",
    "        plt.imshow(cv2.cvtColor(cropped_image, cv2.COLOR_BGR2RGB))\n",
    "        plt.show()\n",
    "\n",
    "    cv2.imwrite(str(dst_path), crop_image)\n",
    "\n",
    "#[process(params) for params in tqdm(parameters)]\n",
    "Parallel(n_jobs=-1, verbose=10)([delayed(process)(params) for params in parameters])\n",
    "None"
   ]
  },
  {
   "cell_type": "code",
   "execution_count": null,
   "metadata": {},
   "outputs": [],
   "source": []
  }
 ],
 "metadata": {
  "kernelspec": {
   "display_name": "Python 3",
   "language": "python",
   "name": "python3"
  },
  "language_info": {
   "codemirror_mode": {
    "name": "ipython",
    "version": 3
   },
   "file_extension": ".py",
   "mimetype": "text/x-python",
   "name": "python",
   "nbconvert_exporter": "python",
   "pygments_lexer": "ipython3",
   "version": "3.7.7"
  }
 },
 "nbformat": 4,
 "nbformat_minor": 4
}
