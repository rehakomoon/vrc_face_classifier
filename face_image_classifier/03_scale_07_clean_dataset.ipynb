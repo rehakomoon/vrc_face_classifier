{
 "cells": [
  {
   "cell_type": "code",
   "execution_count": null,
   "metadata": {},
   "outputs": [],
   "source": [
    "import os\n",
    "from pathlib import Path\n",
    "import math\n",
    "from joblib import Parallel, delayed\n",
    "from tqdm import tqdm\n",
    "import shutil\n",
    "import itertools\n",
    "import cv2\n",
    "from utils import ScaleCategory, load_dataset_dir\n",
    "\n",
    "#import matplotlib.pyplot as plt\n",
    "#%matplotlib inline\n",
    "\n",
    "data_dir = Path.cwd() / \"data_scale\"\n",
    "dataset_dir = data_dir / \"dataset\""
   ]
  },
  {
   "cell_type": "code",
   "execution_count": null,
   "metadata": {},
   "outputs": [],
   "source": [
    "dataset_files = load_dataset_dir(dataset_dir, ScaleCategory)\n",
    "dataset_files = [p.stem for p, l in dataset_files if l == ScaleCategory.invalid]\n",
    "dataset_files = [s.split(\"_\") for s in dataset_files]\n",
    "assert(min([len(l) for l in dataset_files]) >= 4)\n",
    "dataset_files = [(\"_\".join(l[0:4]), len(l) - 4) for l in dataset_files]\n",
    "\n",
    "keys = {k for k, _ in dataset_files}\n",
    "labels_list = {k: [] for k in keys}\n",
    "for k, v in dataset_files:\n",
    "    labels_list[k].append(v)\n",
    "labels_list = {k: min(v) for k, v in labels_list.items()}"
   ]
  },
  {
   "cell_type": "code",
   "execution_count": null,
   "metadata": {},
   "outputs": [],
   "source": [
    "parameters = [dataset_dir / ScaleCategory.invalid.name / f\"{prefix}{'_'*scale_num}.png\" for prefix, scale_num in dataset_files if scale_num != labels_list[prefix]]\n",
    "print(\"remove files:\", len(parameters))"
   ]
  },
  {
   "cell_type": "code",
   "execution_count": null,
   "metadata": {},
   "outputs": [],
   "source": [
    "for remove_path in tqdm(parameters):\n",
    "    os.remove(remove_path)\n",
    "None"
   ]
  },
  {
   "cell_type": "code",
   "execution_count": null,
   "metadata": {},
   "outputs": [],
   "source": []
  }
 ],
 "metadata": {
  "kernelspec": {
   "display_name": "Python 3",
   "language": "python",
   "name": "python3"
  },
  "language_info": {
   "codemirror_mode": {
    "name": "ipython",
    "version": 3
   },
   "file_extension": ".py",
   "mimetype": "text/x-python",
   "name": "python",
   "nbconvert_exporter": "python",
   "pygments_lexer": "ipython3",
   "version": "3.7.7"
  }
 },
 "nbformat": 4,
 "nbformat_minor": 4
}
