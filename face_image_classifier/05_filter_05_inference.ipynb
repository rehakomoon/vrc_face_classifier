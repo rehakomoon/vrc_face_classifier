{
 "cells": [
  {
   "cell_type": "code",
   "execution_count": null,
   "metadata": {},
   "outputs": [],
   "source": [
    "import os\n",
    "from pathlib import Path\n",
    "from joblib import Parallel, delayed\n",
    "from tqdm import tqdm\n",
    "import shutil\n",
    "import itertools\n",
    "import numpy as np\n",
    "import time\n",
    "import torch\n",
    "from torch.utils.data import DataLoader\n",
    "from utils import FaceInferenceImageDataset, FaceDataset, PyLModel\n",
    "from utils import FilterCategory, find_latest_checkpoint_path\n",
    "\n",
    "data_dir = Path.cwd() / \"data_filter\"\n",
    "dataset_dir = data_dir / \"dataset\"\n",
    "log_dir = data_dir / \"log\"\n",
    "inference_dir = data_dir / \"inference\"\n",
    "#inference_dir = data_dir / \"raw\"\n",
    "output_dir = data_dir / \"output\""
   ]
  },
  {
   "cell_type": "code",
   "execution_count": null,
   "metadata": {},
   "outputs": [],
   "source": [
    "shutil.rmtree(output_dir, ignore_errors=True)\n",
    "time.sleep(1)\n",
    "output_dir.mkdir(exist_ok=True)\n",
    "\n",
    "for category in FilterCategory:\n",
    "    (output_dir / category.name).mkdir(exist_ok=True)"
   ]
  },
  {
   "cell_type": "code",
   "execution_count": null,
   "metadata": {},
   "outputs": [],
   "source": [
    "device = \"cuda\"\n",
    "#device = \"cpu\"\n",
    "\n",
    "batch_size=512"
   ]
  },
  {
   "cell_type": "code",
   "execution_count": null,
   "metadata": {},
   "outputs": [],
   "source": [
    "dataset = FaceInferenceImageDataset(inference_dir)\n",
    "dataset = FaceDataset(dataset, with_flipped=True)\n",
    "dataloader = DataLoader(dataset, batch_size=batch_size, shuffle=False, num_workers=8)\n",
    "\n",
    "checkpoint_path = find_latest_checkpoint_path(log_dir / \"lightning_logs\")\n",
    "assert(checkpoint_path is not None)\n",
    "\n",
    "model = PyLModel.load_from_checkpoint(str(checkpoint_path))\n",
    "print(\"Load:\", checkpoint_path)"
   ]
  },
  {
   "cell_type": "code",
   "execution_count": null,
   "metadata": {},
   "outputs": [],
   "source": [
    "model = model.to(device)\n",
    "model = model.eval()"
   ]
  },
  {
   "cell_type": "code",
   "execution_count": null,
   "metadata": {},
   "outputs": [],
   "source": [
    "estimated_list = []\n",
    "\n",
    "with torch.no_grad():\n",
    "    for batch in tqdm(dataloader):\n",
    "        batch, batch_flip, _ = batch\n",
    "        batch_size = len(batch)\n",
    "        \n",
    "        batch = torch.cat([batch, batch_flip], dim=0)\n",
    "        batch = batch.to(device)\n",
    "        \n",
    "        pred = model(batch)\n",
    "        \n",
    "        pred = pred.view(2, batch_size, len(FilterCategory))\n",
    "        pred = pred.sum(dim=0)\n",
    "        _, estimated = pred.max(dim=1)\n",
    "        \n",
    "        estimated = estimated.cpu().numpy()\n",
    "        estimated_list.append(estimated)\n",
    "\n",
    "estimated_list = np.concatenate(estimated_list, axis=0)"
   ]
  },
  {
   "cell_type": "code",
   "execution_count": null,
   "metadata": {},
   "outputs": [],
   "source": [
    "image_files = dataset.dataset.paths\n",
    "assert(len(estimated_list) == len(image_files))\n",
    "\n",
    "parameters = zip(image_files, estimated_list)\n",
    "parameters = [(p, FilterCategory(l).name) for p, l in parameters]\n",
    "parameters = [(p, output_dir / f\"{l}/{p.name}\") for p, l in parameters]"
   ]
  },
  {
   "cell_type": "code",
   "execution_count": null,
   "metadata": {},
   "outputs": [],
   "source": [
    "import pickle\n",
    "with open(data_dir / \"tmp_estimated.pkl\", \"wb\") as f:\n",
    "    pickle.dump(parameters, f)"
   ]
  },
  {
   "cell_type": "code",
   "execution_count": null,
   "metadata": {},
   "outputs": [],
   "source": [
    "import pickle\n",
    "with open(data_dir / \"tmp_estimated.pkl\", \"rb\") as f:\n",
    "    parameters = pickle.load(f)"
   ]
  },
  {
   "cell_type": "code",
   "execution_count": null,
   "metadata": {},
   "outputs": [],
   "source": [
    "for src_path, dst_path in tqdm(parameters):\n",
    "    shutil.copyfile(src_path, dst_path)"
   ]
  },
  {
   "cell_type": "code",
   "execution_count": null,
   "metadata": {},
   "outputs": [],
   "source": []
  }
 ],
 "metadata": {
  "kernelspec": {
   "display_name": "Python 3",
   "language": "python",
   "name": "python3"
  },
  "language_info": {
   "codemirror_mode": {
    "name": "ipython",
    "version": 3
   },
   "file_extension": ".py",
   "mimetype": "text/x-python",
   "name": "python",
   "nbconvert_exporter": "python",
   "pygments_lexer": "ipython3",
   "version": "3.7.7"
  }
 },
 "nbformat": 4,
 "nbformat_minor": 4
}
