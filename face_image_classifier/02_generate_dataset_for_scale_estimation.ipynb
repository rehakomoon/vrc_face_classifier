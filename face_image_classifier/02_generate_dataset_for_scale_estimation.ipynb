{
 "cells": [
  {
   "cell_type": "code",
   "execution_count": null,
   "metadata": {},
   "outputs": [],
   "source": [
    "import os\n",
    "from pathlib import Path\n",
    "from joblib import Parallel, delayed\n",
    "from tqdm import tqdm\n",
    "import shutil\n",
    "import itertools\n",
    "import utils\n",
    "from utils import SelectCategory\n",
    "\n",
    "data_dir = Path.cwd() / \"data_select\"\n",
    "dataset_dir = data_dir / \"dataset\"\n",
    "inferred_dir = data_dir / \"output\"\n",
    "output_dir = Path.cwd() / \"data_scale/raw\""
   ]
  },
  {
   "cell_type": "code",
   "execution_count": null,
   "metadata": {},
   "outputs": [],
   "source": [
    "output_dir.parent.mkdir(exist_ok=True)\n",
    "output_dir.mkdir(exist_ok=True)"
   ]
  },
  {
   "cell_type": "code",
   "execution_count": null,
   "metadata": {},
   "outputs": [],
   "source": [
    "labeled_dataset = utils.load_dataset_dir(dataset_dir, ZoomCategory)\n",
    "output_dataset = utils.load_dataset_dir(inferred_dir, ZoomCategory)\n",
    "labeled_dataset = [(p, l) for p, l in labeled_dataset if p.name[:5] != \"prev_\"]\n",
    "\n",
    "keys = set([p.name for p, l in labeled_dataset]).union(set([p.name for p, l in output_dataset]))\n",
    "parameters = {k: None for k in keys}\n",
    "\n",
    "for filepath, label in output_dataset:\n",
    "    parameters[filepath.name] = (filepath, label)\n",
    "for filepath, label in labeled_dataset:\n",
    "    parameters[filepath.name] = (filepath, label)\n",
    "\n",
    "parameters = list(parameters.values())\n",
    "num_all_data = len(parameters)\n",
    "\n",
    "parameters = [(p, output_dir / p.name) for p, l in parameters if l == SelectCategory.correct]\n",
    "\n",
    "print(len(parameters), num_all_data)"
   ]
  },
  {
   "cell_type": "code",
   "execution_count": null,
   "metadata": {},
   "outputs": [],
   "source": [
    "for src_path, dst_path in tqdm(parameters):\n",
    "    shutil.copyfile(src_path, dst_path)"
   ]
  },
  {
   "cell_type": "code",
   "execution_count": null,
   "metadata": {},
   "outputs": [],
   "source": []
  }
 ],
 "metadata": {
  "kernelspec": {
   "display_name": "Python 3",
   "language": "python",
   "name": "python3"
  },
  "language_info": {
   "codemirror_mode": {
    "name": "ipython",
    "version": 3
   },
   "file_extension": ".py",
   "mimetype": "text/x-python",
   "name": "python",
   "nbconvert_exporter": "python",
   "pygments_lexer": "ipython3",
   "version": "3.7.7"
  }
 },
 "nbformat": 4,
 "nbformat_minor": 4
}
