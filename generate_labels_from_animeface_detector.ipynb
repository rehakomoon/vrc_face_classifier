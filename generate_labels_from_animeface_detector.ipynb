{
 "cells": [
  {
   "cell_type": "code",
   "execution_count": null,
   "metadata": {},
   "outputs": [],
   "source": [
    "from pathlib import Path\n",
    "import numpy as np\n",
    "from PIL import Image\n",
    "import cv2\n",
    "import matplotlib.pyplot as plt\n",
    "from joblib import Parallel, delayed\n",
    "from tqdm import tqdm\n",
    "import shutil\n",
    "\n",
    "# %matplotlib inline\n",
    "\n",
    "data_path = Path.cwd() / \"data\"\n",
    "input_dir = data_path / \"collect_data\"\n",
    "output_dir = data_path / \"collect_data_label_txt\"\n",
    "cascade_file_path = Path.cwd() / \"animeface_detector/lbpcascade_animeface.xml\"\n",
    "\n",
    "output_dir.mkdir(exist_ok=True)"
   ]
  },
  {
   "cell_type": "code",
   "execution_count": null,
   "metadata": {},
   "outputs": [],
   "source": [
    "def process(image_path):\n",
    "    load_img = cv2.imread(str(image_path), cv2.IMREAD_COLOR)\n",
    "    gray_img = cv2.cvtColor(load_img, cv2.COLOR_BGR2GRAY)\n",
    "    gray_img = cv2.equalizeHist(gray_img)\n",
    "    \n",
    "    cascade = cv2.CascadeClassifier(str(cascade_file_path))\n",
    "    faces = cascade.detectMultiScale(gray_img, scaleFactor = 1.1, minNeighbors = 5, minSize = (32, 32))\n",
    "\n",
    "    if (False):\n",
    "        plt.imshow(cv2.cvtColor(load_img, cv2.COLOR_BGR2RGB))\n",
    "        plt.show()\n",
    "\n",
    "        for (x, y, w, h) in faces:\n",
    "            cv2.rectangle(load_img, (x, y), (x + w, y + h), (0, 0, 255), 2)\n",
    "        plt.imshow(cv2.cvtColor(load_img, cv2.COLOR_BGR2RGB))\n",
    "        plt.show()\n",
    "    \n",
    "    image_h, image_w, _ = load_img.shape\n",
    "    #normalized_areas = [(x/image_w, y/image_h, (x+w)/image_w, (y+h)/image_h) for (x, y, w, h) in faces]\n",
    "    areas = [(x, y, x+w, y+h) for (x, y, w, h) in faces]\n",
    "    \n",
    "    if (len(areas) <= 0):\n",
    "        return\n",
    "    \n",
    "    annotation_text = [\" \".join([str(d) for d in l]) + \" 1\" for l in areas]\n",
    "    annotation_text = \"\\n\".join(annotation_text)\n",
    "    annotation_text = f\"{load_img.shape[1]} {load_img.shape[0]}\\n{len(areas)}\\n{annotation_text}\"\n",
    "\n",
    "    output_path = output_dir / (image_path.stem + \".txt\")\n",
    "    with open(output_path, \"w\") as f:\n",
    "        f.write(annotation_text)\n",
    "\n",
    "input_image_path_list = list(input_dir.glob(\"*.png\"))\n",
    "\n",
    "# for debugging\n",
    "# input_image_path_list = input_image_path_list[:100]\n",
    "\n",
    "Parallel(n_jobs=-1, verbose=10)([delayed(process)(p) for p in input_image_path_list])\n",
    "print(\"process done.\")"
   ]
  },
  {
   "cell_type": "code",
   "execution_count": null,
   "metadata": {},
   "outputs": [],
   "source": []
  }
 ],
 "metadata": {
  "kernelspec": {
   "display_name": "Python 3",
   "language": "python",
   "name": "python3"
  },
  "language_info": {
   "codemirror_mode": {
    "name": "ipython",
    "version": 3
   },
   "file_extension": ".py",
   "mimetype": "text/x-python",
   "name": "python",
   "nbconvert_exporter": "python",
   "pygments_lexer": "ipython3",
   "version": "3.7.7"
  }
 },
 "nbformat": 4,
 "nbformat_minor": 4
}
