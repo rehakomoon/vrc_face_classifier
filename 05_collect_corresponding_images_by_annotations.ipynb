{
 "cells": [
  {
   "cell_type": "code",
   "execution_count": null,
   "metadata": {},
   "outputs": [],
   "source": [
    "from pathlib import Path\n",
    "import numpy as np\n",
    "import cv2\n",
    "import matplotlib.pyplot as plt\n",
    "from joblib import Parallel, delayed\n",
    "from tqdm import tqdm\n",
    "import shutil\n",
    "\n",
    "import utils\n",
    "\n",
    "data_path = Path.cwd() / \"data\"\n",
    "#data_path = Path.cwd() / \"data_tiny\"\n",
    "\n",
    "input_txt_dir = data_path / \"labeled_filtered_data\"\n",
    "input_png_dir = data_path / \"collect_data\"\n",
    "output_dir = data_path / \"labeled_filtered_data\"\n",
    "\n",
    "output_dir.mkdir(exist_ok=True)"
   ]
  },
  {
   "cell_type": "code",
   "execution_count": null,
   "metadata": {},
   "outputs": [],
   "source": [
    "input_path_list = list(input_txt_dir.glob(\"*.txt\"))\n",
    "\n",
    "# for debugging\n",
    "# input_path_list = input_path_list[:10]\n",
    "\n",
    "num_input_txt = len(input_path_list)\n",
    "\n",
    "parameters = [utils.get_image_path_and_rotation(p) for p in input_path_list]\n",
    "parameters = zip(input_path_list, parameters)\n",
    "parameters = [(txt_path, params) for (txt_path, params) in parameters if (params is not None)]\n",
    "parameters = [(txt_path, input_png_dir / image_filename, rotation) for txt_path, (image_filename, rotation) in parameters]\n",
    "parameters = [(txt_path, input_png_path, output_dir / f\"{input_png_path.stem}_{rotation}.png\", rotation) for txt_path, input_png_path, rotation in parameters]\n",
    "\n",
    "print(f\"{num_input_txt-len(parameters)} txt file skipped.\")"
   ]
  },
  {
   "cell_type": "code",
   "execution_count": null,
   "metadata": {},
   "outputs": [],
   "source": [
    "def process(params):\n",
    "    input_txt_path, input_png_path, output_png_path, rotation = params\n",
    "    with open(input_txt_path, \"r\") as f:\n",
    "        lines = f.readlines()\n",
    "    image_size, areas = utils.parse_annotation(lines)\n",
    "    \n",
    "    image = utils.load_image_with_rotation(input_png_path, rotation)\n",
    "    image_h, image_w, _ = image.shape\n",
    "    assert(image_w == image_size[0] and image_h == image_size[1])\n",
    "    \n",
    "    cv2.imwrite(str(output_png_path), image)\n",
    "\n",
    "#[process(params) for params in tqdm(parameters)]\n",
    "Parallel(n_jobs=-1, verbose=10)([delayed(process)(p) for p in parameters])\n",
    "print(\"process done.\")"
   ]
  },
  {
   "cell_type": "code",
   "execution_count": null,
   "metadata": {},
   "outputs": [],
   "source": []
  }
 ],
 "metadata": {
  "kernelspec": {
   "display_name": "Python 3",
   "language": "python",
   "name": "python3"
  },
  "language_info": {
   "codemirror_mode": {
    "name": "ipython",
    "version": 3
   },
   "file_extension": ".py",
   "mimetype": "text/x-python",
   "name": "python",
   "nbconvert_exporter": "python",
   "pygments_lexer": "ipython3",
   "version": "3.7.7"
  }
 },
 "nbformat": 4,
 "nbformat_minor": 4
}
